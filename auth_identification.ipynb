{
  "nbformat": 4,
  "nbformat_minor": 0,
  "metadata": {
    "colab": {
      "name": "auth_identification.ipynb",
      "provenance": [],
      "collapsed_sections": []
    },
    "kernelspec": {
      "name": "python2",
      "display_name": "Python 2"
    },
    "accelerator": "GPU"
  },
  "cells": [
    {
      "cell_type": "code",
      "metadata": {
        "id": "i-qqI1Xd0KvD",
        "colab": {
          "base_uri": "https://localhost:8080/",
          "height": 253
        },
        "outputId": "3f75c0e1-f8f3-4cce-b7f2-50c5e3d9d628"
      },
      "source": [
        "#https://drive.google.com/open?id=1jgg7I6tLqB6ahus-g1GKCmEpyv7dceOC\n",
        "!pip install PyDrive\n",
        "import os                                  # to access google drive as bigger files are downloaded from there\n",
        "from pydrive.auth import GoogleAuth\n",
        "from pydrive.drive import GoogleDrive\n",
        "from google.colab import auth\n",
        "from oauth2client.client import GoogleCredentials"
      ],
      "execution_count": null,
      "outputs": [
        {
          "output_type": "stream",
          "text": [
            "Collecting PyDrive\n",
            "  Downloading https://files.pythonhosted.org/packages/6b/2d/c8e052ba51099faee0bfe71d84f35bb1576e6910483cad46b840a122ca6c/PyDrive-1.3.1-py2-none-any.whl\n",
            "Requirement already satisfied: PyYAML>=3.0 in /usr/local/lib/python2.7/dist-packages (from PyDrive) (3.13)\n",
            "Requirement already satisfied: oauth2client>=4.0.0 in /usr/local/lib/python2.7/dist-packages (from PyDrive) (4.1.3)\n",
            "Requirement already satisfied: google-api-python-client>=1.2 in /usr/local/lib/python2.7/dist-packages (from PyDrive) (1.6.7)\n",
            "Requirement already satisfied: httplib2>=0.9.1 in /usr/local/lib/python2.7/dist-packages (from oauth2client>=4.0.0->PyDrive) (0.11.3)\n",
            "Requirement already satisfied: rsa>=3.1.4 in /usr/local/lib/python2.7/dist-packages (from oauth2client>=4.0.0->PyDrive) (4.0)\n",
            "Requirement already satisfied: pyasn1>=0.1.7 in /usr/local/lib/python2.7/dist-packages (from oauth2client>=4.0.0->PyDrive) (0.4.4)\n",
            "Requirement already satisfied: pyasn1-modules>=0.0.5 in /usr/local/lib/python2.7/dist-packages (from oauth2client>=4.0.0->PyDrive) (0.2.2)\n",
            "Requirement already satisfied: six>=1.6.1 in /usr/local/lib/python2.7/dist-packages (from oauth2client>=4.0.0->PyDrive) (1.11.0)\n",
            "Requirement already satisfied: uritemplate<4dev,>=3.0.0 in /usr/local/lib/python2.7/dist-packages (from google-api-python-client>=1.2->PyDrive) (3.0.0)\n",
            "Installing collected packages: PyDrive\n",
            "Successfully installed PyDrive-1.3.1\n"
          ],
          "name": "stdout"
        }
      ]
    },
    {
      "cell_type": "code",
      "metadata": {
        "id": "Cn5IZo0m0jaV"
      },
      "source": [
        "auth.authenticate_user()          # sign in for google drive\n",
        "gauth = GoogleAuth()\n",
        "gauth.credentials = GoogleCredentials.get_application_default()\n",
        "drive = GoogleDrive(gauth)"
      ],
      "execution_count": null,
      "outputs": []
    },
    {
      "cell_type": "code",
      "metadata": {
        "id": "i1ET5nPL0vN8"
      },
      "source": [
        "download = drive.CreateFile({'id': '1jgg7I6tLqB6ahus-g1GKCmEpyv7dceOC'})\n",
        "download.GetContentFile('glove_embedding.tar')\n",
        "#from google.colab import files\n",
        "#uploadedFile=files.upload()"
      ],
      "execution_count": null,
      "outputs": []
    },
    {
      "cell_type": "code",
      "metadata": {
        "id": "e2Gl9M_91Hby",
        "colab": {
          "base_uri": "https://localhost:8080/",
          "height": 139
        },
        "outputId": "c8b2a2ff-97a7-4c89-90ec-3f02226c8f31"
      },
      "source": [
        "!tar -xvf glove_embedding.tar             # unzipping the glove embedding\n",
        "!rm -r /content/C50\n",
        "!rm -r /content/auth_id\n",
        "!rm -r /content/bbc\n",
        "!git clone https://github.com/shriya999/auth_id.git          # clones supporting files from github repo\n",
        "!git clone https://github.com/shriya999/C50.git               # clone dataset from github repo \n",
        "!git clone https://github.com/shriya999/bbc.git \n",
        "!ls"
      ],
      "execution_count": null,
      "outputs": [
        {
          "output_type": "stream",
          "text": [
            "Cloning into 'LIAR-PLUS'...\n",
            "remote: Enumerating objects: 9, done.\u001b[K\n",
            "remote: Counting objects:  11% (1/9)\u001b[K\rremote: Counting objects:  22% (2/9)\u001b[K\rremote: Counting objects:  33% (3/9)\u001b[K\rremote: Counting objects:  44% (4/9)\u001b[K\rremote: Counting objects:  55% (5/9)\u001b[K\rremote: Counting objects:  66% (6/9)\u001b[K\rremote: Counting objects:  77% (7/9)\u001b[K\rremote: Counting objects:  88% (8/9)\u001b[K\rremote: Counting objects: 100% (9/9)\u001b[K\rremote: Counting objects: 100% (9/9), done.\u001b[K\n",
            "remote: Compressing objects: 100% (9/9), done.\u001b[K\n",
            "remote: Total 77 (delta 2), reused 0 (delta 0), pack-reused 68\u001b[K\n",
            "Unpacking objects: 100% (77/77), done.\n",
            "LIAR-PLUS  sample_data\n"
          ],
          "name": "stdout"
        }
      ]
    },
    {
      "cell_type": "code",
      "metadata": {
        "id": "N66ahZvLsOrC",
        "colab": {
          "base_uri": "https://localhost:8080/",
          "height": 228
        },
        "outputId": "ca78b3d7-cb1f-44c3-9564-fc6d4a7b6e2c"
      },
      "source": [
        "#sentence level case\n",
        "%cd /content/auth_id/utils\n",
        "!pip install Unidecode\n",
        "!python2 save_dictionary.py\n",
        "!python2 create_article_testset_C50.py\n",
        "!python2 create_article_trainset_C50.py\n",
        "!python2 preload_train_minibatch.py\n",
        "!python2 preload_test_minibatch.py"
      ],
      "execution_count": null,
      "outputs": [
        {
          "output_type": "stream",
          "text": [
            "/content/auth_id/utils\n",
            "Collecting Unidecode\n",
            "\u001b[?25l  Downloading https://files.pythonhosted.org/packages/31/39/53096f9217b057cb049fe872b7fc7ce799a1a89b76cf917d9639e7a558b5/Unidecode-1.0.23-py2.py3-none-any.whl (237kB)\n",
            "\u001b[K    100% |████████████████████████████████| 245kB 5.0MB/s \n",
            "\u001b[?25hInstalling collected packages: Unidecode\n",
            "Successfully installed Unidecode-1.0.23\n",
            "abc\n",
            "Success!\n",
            "Success!\n",
            "Success!\n",
            "Success!\n"
          ],
          "name": "stdout"
        }
      ]
    },
    {
      "cell_type": "code",
      "metadata": {
        "id": "tTvYdyA8pyUm",
        "colab": {
          "base_uri": "https://localhost:8080/",
          "height": 108
        },
        "outputId": "4a609159-a9b8-49ba-8c15-5dd374beec80"
      },
      "source": [
        "#article level cases for C50 dataset\n",
        "%cd /content/auth_id/utils\n",
        "!pip install Unidecode\n",
        "!python2 save_dictionary.py\n",
        "!python2 create_sent_set_C50_train.py\n",
        "!python2 create_sentence_set.py           # with glove for train data"
      ],
      "execution_count": null,
      "outputs": [
        {
          "output_type": "stream",
          "text": [
            "/content/auth_id/utils\n",
            "Requirement already satisfied: Unidecode in /usr/local/lib/python2.7/dist-packages (1.0.23)\n",
            "abc\n",
            "Success!\n",
            "Success!\n"
          ],
          "name": "stdout"
        }
      ]
    },
    {
      "cell_type": "code",
      "metadata": {
        "id": "IPHE4Rq0Nlt4",
        "colab": {
          "base_uri": "https://localhost:8080/",
          "height": 104
        },
        "outputId": "5e2104c8-0049-4cc9-ed98-2e44ecfd67fe"
      },
      "source": [
        "#article level cases for bbc dataset\n",
        "%cd /content/auth_id/utils\n",
        "!pip install Unidecode\n",
        "!python2 save_dictionary.py\n",
        "!python2 create_sent_set_no_glove.py\n",
        "!python2 create_sentence_set_bbc.py"
      ],
      "execution_count": null,
      "outputs": [
        {
          "output_type": "stream",
          "text": [
            "/content/auth_id/utils\n",
            "Requirement already satisfied: Unidecode in /usr/local/lib/python2.7/dist-packages (1.0.23)\n",
            "abc\n",
            "Success!\n",
            "Success!\n"
          ],
          "name": "stdout"
        }
      ]
    },
    {
      "cell_type": "code",
      "metadata": {
        "id": "3_9x_dOjTDjP",
        "colab": {
          "base_uri": "https://localhost:8080/",
          "height": 181
        },
        "outputId": "c976f7c2-84fa-4846-b74d-8af96db119b4"
      },
      "source": [
        "%cd /content/auth_id\n",
        "!ls"
      ],
      "execution_count": null,
      "outputs": [
        {
          "output_type": "stream",
          "text": [
            "/content/auth_id\n",
            "AttributionModel.py\t proj_gru_cell.py\t  RNN_sent_model.py\n",
            "data_analysis.py\t proj_rnn_cell.py\t  RNN_sent_model_test.py\n",
            "data_sentence_index.pkl  __pycache__\t\t  tokenToIndex\n",
            "data_sentence.pkl\t README.txt\t\t  trial.py\n",
            "forTest.py\t\t results\t\t  trial_tile.py\n",
            "glove_read_in_trial.py\t RNN_average_model.py\t  utils\n",
            "model.py\t\t RNN_model.py\n",
            "numpy_playground.py\t RNN_sent_model_embed.py\n"
          ],
          "name": "stdout"
        }
      ]
    },
    {
      "cell_type": "code",
      "metadata": {
        "id": "giFU3WWNVxVc"
      },
      "source": [
        "# Create & upload a file.\n",
        "# uploaded = drive.CreateFile({'title': 'article_35epoch_11Nov.png'})\n",
        "# uploaded.SetContentFile('/content/auth_id/results/fig/confusion_matrix_gutenberg_sentence.png')\n",
        "# uploaded.Upload()\n",
        "# print('Uploaded file with ID {}'.format(uploaded.get('id')))"
      ],
      "execution_count": null,
      "outputs": []
    },
    {
      "cell_type": "code",
      "metadata": {
        "id": "19TX_aCTvgw3",
        "colab": {
          "base_uri": "https://localhost:8080/",
          "height": 6746
        },
        "outputId": "8d96d721-5ac2-4389-9e88-eac48ac12dba"
      },
      "source": [
        "#RNN_sent_model_embed.py  for gru              ARTICLE LEVEL CASE\n",
        "\n",
        "\n",
        "#!/usr/bin/env python3\n",
        "# -*- coding: utf-8 -*-\n",
        "\n",
        "\n",
        "from __future__ import absolute_import\n",
        "from __future__ import division\n",
        "\n",
        "import argparse\n",
        "import logging\n",
        "import sys\n",
        "import time\n",
        "import os\n",
        "import pickle\n",
        "\n",
        "import utils.file2dict as fdt\n",
        "import utils.read_minibatch as rmb\n",
        "import utils.data_util as data_util\n",
        "import utils.confusion_matrix as cm\n",
        "import utils.data_util as du\n",
        "\n",
        "from datetime import datetime\n",
        "\n",
        "import tensorflow as tf\n",
        "import numpy as np\n",
        "\n",
        "from AttributionModel import AttributionModel\n",
        "from proj_rnn_cell import RNNCell\n",
        "from proj_gru_cell import GRUCell\n",
        "\n",
        "logger = logging.getLogger(\"RNN_Author_Attribution\")\n",
        "logger.setLevel(logging.DEBUG)\n",
        "logging.basicConfig(format='%(message)s', level=logging.DEBUG)\n",
        "\n",
        "tf.reset_default_graph()  #used so that variables gets reinitialized every time\n",
        "\n",
        "class Config:\n",
        "    cell_type=\"gru\" \n",
        "\n",
        "    window_size = 0\n",
        "\n",
        "    word_num = 30\n",
        "    max_length = 30 # longest length of a sentence we will process\n",
        "    n_classes = 50 # in total, we have 50 classes\n",
        "    dropout = 0.8\n",
        "\n",
        "    embed_size = 50\n",
        "\n",
        "    hidden_size = 300\n",
        "    batch_size = 16\n",
        "\n",
        "    n_epochs = 30\n",
        "    regularization = 0.00001\n",
        "\n",
        "    max_grad_norm = 10.0 # max gradients norm for clipping\n",
        "    lr = 0.004 # learning rate\n",
        "\n",
        "    def __init__(self, args):\n",
        "\n",
        "        #self.cell = args.cell\n",
        "\n",
        "        self.cell = GRUCell(Config.embed_size, Config.hidden_size)\n",
        "        if \"output_path\" in args:\n",
        "            # Where to save things.\n",
        "            self.output_path = args.output_path\n",
        "        else:\n",
        "            self.output_path = \"results/{}/{:%Y%m%d_%H%M%S}/\".format(\"RNN\", datetime.now())\n",
        "\n",
        "        self.model_output = self.output_path + \"model.weights\"\n",
        "        self.eval_output = self.output_path + \"results.txt\"\n",
        "\n",
        "        #self.conll_output = self.output_path + \"{}_predictions.conll\".format(self.cell)\n",
        "        self.log_output = self.output_path + \"log\"\n",
        "\n",
        "class RNNModel(AttributionModel):\n",
        "    def add_placeholders(self):\n",
        "        self.input_placeholder = tf.placeholder(tf.int32, [None, Config.max_length, Config.word_num])\n",
        "        self.batch_mask_placeholder = tf.placeholder(tf.float32, [None, Config.max_length, Config.word_num])\n",
        "        self.labels_placeholder = tf.placeholder(tf.int32, [None, Config.n_classes])\n",
        "        self.mask_placeholder = tf.placeholder(tf.float32, [None, Config.max_length])\n",
        "        self.dropout_placeholder = tf.placeholder(tf.float32)\n",
        "\n",
        "    def create_feed_dict(self, inputs_batch, batch_feat_mask, mask_batch, labels_batch=None, dropout=1): \n",
        "        feed_dict = {}\n",
        "        feed_dict[self.batch_mask_placeholder] = batch_feat_mask        #default value of dropout given as 1 so that not applied for test data\n",
        "        if labels_batch is not None:\n",
        "            feed_dict[self.labels_placeholder] = labels_batch\n",
        "        if inputs_batch is not None:\n",
        "            feed_dict[self.input_placeholder] = inputs_batch\n",
        "        if dropout is not None:\n",
        "            feed_dict[self.dropout_placeholder] = dropout\n",
        "        if mask_batch is not None:\n",
        "            feed_dict[self.mask_placeholder] = mask_batch\n",
        "\n",
        "        return feed_dict\n",
        "\n",
        "    def add_embedding(self):\n",
        "        embeddingTensor = tf.Variable(self.pretrained_embeddings, tf.float32)\n",
        "        embeddingsTemp = tf.nn.embedding_lookup(embeddingTensor, self.input_placeholder)\n",
        "        mask_batch = tf.reshape(self.batch_mask_placeholder, [-1, config.max_length, config.word_num, 1])\n",
        "        mask_batch = tf.tile(mask_batch, [1, 1, 1, config.embed_size])\n",
        "        embeddings = tf.multiply(embeddingsTemp, mask_batch)\n",
        "        #embeddings = tf.reshape(embeddings, [-1, config.max_length, config.word_num, config.embed_size])\n",
        "        embeddings = tf.reduce_sum(embeddings, axis = 2)\n",
        "        return embeddings\n",
        "\n",
        "    def add_prediction_op(self):\n",
        "        x = self.add_embedding()\n",
        "        #x = self.input_placeholder\n",
        "        if Config.cell_type==\"lstm\":\n",
        "            print \"lstm\"\n",
        "            cell_state = tf.zeros([tf.shape(x)[0], Config.hidden_size])\n",
        "            hidden_state = tf.zeros([tf.shape(x)[0], Config.hidden_size])\n",
        "            init_state = tf.nn.rnn_cell.LSTMStateTuple(cell_state, hidden_state)\n",
        "            cell = tf.nn.rnn_cell.BasicLSTMCell(Config.hidden_size, state_is_tuple=True)\n",
        "            inputs_series=tf.split(x,Config.max_length,1)\n",
        "            inputs_series=[tf.reshape(one_input,[-1,Config.embed_size]) for one_input in inputs_series ]\n",
        "            outputs, current_state = tf.nn.static_rnn(cell, inputs_series, init_state)\n",
        "\n",
        "            self.U = tf.get_variable('U',\n",
        "                                  [Config.hidden_size, Config.n_classes],\n",
        "                                  initializer = tf.contrib.layers.xavier_initializer())\n",
        "            self.b2 = tf.get_variable('b2',\n",
        "                                  [Config.n_classes, ],\n",
        "                                  initializer = tf.contrib.layers.xavier_initializer())\n",
        "            h = tf.zeros([tf.shape(x)[0], Config.hidden_size])\n",
        "\n",
        "            preds=[tf.matmul(o, self.U) + self.b2 for o in outputs]\n",
        "            preds=tf.stack(preds)\n",
        "            preds=tf.reshape(tf.transpose(preds, [1, 0, 2]),[-1,Config.max_length,Config.n_classes])\n",
        "            return preds\n",
        "\n",
        "\n",
        "        else:\n",
        "            dropout_rate = self.dropout_placeholder\n",
        "\n",
        "            self.raw_preds = [] # Predicted output at each timestep should go here!\n",
        "\n",
        "            if Config.cell_type==\"rnn\":\n",
        "                cell = RNNCell(Config.embed_size, Config.hidden_size)\n",
        "            elif Config.cell_type==\"gru\":\n",
        "                cell = GRUCell(Config.embed_size, Config.hidden_size)\n",
        "            else:\n",
        "                assert False, \"Cell type undefined\"\n",
        "          \n",
        "            self.U = tf.get_variable('U',\n",
        "                                  [Config.hidden_size, Config.n_classes],\n",
        "                                  initializer = tf.contrib.layers.xavier_initializer())\n",
        "            self.b2 = tf.get_variable('b2',\n",
        "                                  [Config.n_classes, ],\n",
        "                                  initializer = tf.contrib.layers.xavier_initializer())\n",
        "            h = tf.zeros([tf.shape(x)[0], Config.hidden_size])\n",
        "\n",
        "            with tf.variable_scope(\"RNN\"):\n",
        "\n",
        "                for time_step in range(config.max_length):\n",
        "                    if time_step >= 1:\n",
        "                        tf.get_variable_scope().reuse_variables()\n",
        "                    o, h = cell(x[:,time_step,:], h)\n",
        "\n",
        "                    o_drop = tf.nn.dropout(o, dropout_rate)\n",
        "                    self.raw_preds.append(tf.matmul(o_drop, self.U) + self.b2)\n",
        "\n",
        "            preds=tf.stack(self.raw_preds)\n",
        "            preds=tf.reshape(tf.transpose(preds, [1, 0, 2]),[-1,Config.max_length,Config.n_classes])\n",
        "            return preds\n",
        "          \n",
        "    def add_loss_op(self, preds):\n",
        "        \n",
        "        self.pred_mask=tf.reshape(self.mask_placeholder,[-1,Config.max_length,1])\n",
        "        self.pred_mask=tf.tile(self.pred_mask,[1,1,Config.n_classes])\n",
        "\n",
        "        self.pred_masked=tf.multiply(preds,self.pred_mask)\n",
        "        self.pred_masked=tf.reduce_sum(self.pred_masked,axis=1)\n",
        "\n",
        "        loss = tf.nn.softmax_cross_entropy_with_logits(logits=self.pred_masked, labels=self.labels_placeholder)\n",
        "\n",
        "        loss = tf.reduce_mean(loss) + config.regularization * ( tf.nn.l2_loss(self.U) )\n",
        "\n",
        "        with tf.variable_scope(\"RNN/cell\", reuse= True):\n",
        "            # add regularization\n",
        "\n",
        "            if Config.cell_type=='gru':\n",
        "                loss += config.regularization * (tf.nn.l2_loss(tf.get_variable(\"W_r\"))\n",
        "                                             + tf.nn.l2_loss(tf.get_variable(\"U_r\"))\n",
        "                                             + tf.nn.l2_loss(tf.get_variable(\"W_z\"))\n",
        "                                             + tf.nn.l2_loss(tf.get_variable(\"U_z\"))\n",
        "                                             + tf.nn.l2_loss(tf.get_variable(\"W_o\"))\n",
        "                                             + tf.nn.l2_loss(tf.get_variable(\"U_o\")))\n",
        "        return loss\n",
        "          \n",
        "    def add_loss_op(self, preds):\n",
        "        \n",
        "        self.pred_mask=tf.reshape(self.mask_placeholder,[-1,Config.max_length,1])\n",
        "        self.pred_mask=tf.tile(self.pred_mask,[1,1,Config.n_classes])\n",
        "\n",
        "        self.pred_masked=tf.multiply(preds,self.pred_mask)\n",
        "        self.pred_masked=tf.reduce_sum(self.pred_masked,axis=1)\n",
        "\n",
        "        loss = tf.nn.softmax_cross_entropy_with_logits(logits=self.pred_masked, labels=self.labels_placeholder)\n",
        "\n",
        "        loss = tf.reduce_mean(loss) + config.regularization * ( tf.nn.l2_loss(self.U) )\n",
        "\n",
        "        with tf.variable_scope(\"RNN/cell\", reuse= True):\n",
        "            # add regularization\n",
        "\n",
        "            if Config.cell_type=='gru':\n",
        "                loss += config.regularization * (tf.nn.l2_loss(tf.get_variable(\"W_r\"))\n",
        "                                             + tf.nn.l2_loss(tf.get_variable(\"U_r\"))\n",
        "                                             + tf.nn.l2_loss(tf.get_variable(\"W_z\"))\n",
        "                                             + tf.nn.l2_loss(tf.get_variable(\"U_z\"))\n",
        "                                             + tf.nn.l2_loss(tf.get_variable(\"W_o\"))\n",
        "                                             + tf.nn.l2_loss(tf.get_variable(\"U_o\")))\n",
        "        return loss\n",
        "\n",
        "    def add_training_op(self, loss):\n",
        "        train_op = tf.train.AdamOptimizer(Config.lr).minimize(loss)\n",
        "        return train_op\n",
        "\n",
        "    def train_on_batch(self, sess, inputs_batch, batch_feat_mask, labels_batch, mask_batch):             #for train data\n",
        "\n",
        "        feed = self.create_feed_dict(inputs_batch, batch_feat_mask, labels_batch=labels_batch, mask_batch=mask_batch,\n",
        "                                     dropout=Config.dropout)\n",
        "        _, loss, pred, pred_mask = sess.run([self.train_op, self.loss, self.pred, self.pred_mask], feed_dict=feed)\n",
        "\n",
        "        return loss\n",
        "\n",
        "    def predict_on_batch(self, sess, inputs_batch, batch_feat_mask, mask_batch):         #for test data\n",
        "       \n",
        "        feed = self.create_feed_dict(inputs_batch, batch_feat_mask, mask_batch)\n",
        "        predictions = sess.run(tf.nn.softmax(self.pred), feed_dict=feed)\n",
        "        mask2=np.stack([mask_batch for i in range(Config.n_classes)] ,2)\n",
        "        pred2=np.sum(np.multiply(predictions,mask2),1)\n",
        "        return pred2\n",
        "\n",
        "    def record_history_init(self,f):\n",
        "        f.write(\"###\\n\")\n",
        "        f.write(\"training_model: \"+sys.argv[0]+\"\\n\")\n",
        "        f.write(\"starting_time: \"+str(datetime.now())+\"\\n\")\n",
        "        f.write(\"\\n\")\n",
        "        f.write(\"parameters:\\n\")\n",
        "        f.write(\"\\tcell_type: \"+Config.cell_type+\"\\n\")\n",
        "        f.write(\"\\tembed_size: {}\\n\".format(Config.embed_size))\n",
        "        f.write(\"\\thidden_size: {}\\n\".format(Config.hidden_size))\n",
        "        f.write(\"\\tlearning_rate: {0:.4f}\\n\".format(Config.lr))\n",
        "        f.write(\"\\tregularization: {0:.5f}\\n\".format(Config.regularization))\n",
        "        f.write(\"\\tdropout: {0:.5f}\\n\".format(Config.dropout))\n",
        "        f.write(\"\\tn_epochs: {0:.5f}\\n\".format(Config.n_epochs))\n",
        "        f.write(\"\\tbatch_size: {}\\n\".format(Config.batch_size))\n",
        "        f.write(\"\\n\")\n",
        "        f.write(\"training history:\\n\")\n",
        "        f.write(\"epoch \\t\\t loss \\t\\t train_accu \\t\\t test_accu\\n\")\n",
        "\n",
        "    def record_history_accu(self,f,n_epoch,average_train_loss,train_accu,test_accu):\n",
        "        f.write(\"{0:d} \\t\\t {1:.5f} \\t\\t {2:.5f} \\t\\t {3:.5f}\\n\".format(n_epoch,average_train_loss,train_accu,test_accu))\n",
        "\n",
        "    def record_history_finish(self,f):\n",
        "        f.write(\"END\\n\")\n",
        "        f.write(\"\\n\")\n",
        "        f.close()\n",
        "\n",
        "    def test_model(self, session, batch_list):\n",
        "        print \"Now, testing on the test set...\"\n",
        "        total = 0\n",
        "        accuCount = 0\n",
        "        pred_list = []\n",
        "        real_label_list = []\n",
        "\n",
        "        for batch in batch_list:\n",
        "            batch_feat = np.array(batch[1], dtype = np.int32)[:, :, 0, :]\n",
        "            batch_feat_mask = np.array(batch[1], dtype = np.float32)[:, :, 1, :]\n",
        "            batch_mask = np.array(batch[2], dtype = np.float32)\n",
        "\n",
        "            pred = self.predict_on_batch(session, batch_feat, batch_feat_mask, batch_mask)\n",
        "            accuCount += np.sum(np.argmax(pred,1) == batch[0])\n",
        "            pred_list.extend(np.argmax(pred,1).tolist())\n",
        "            total += len(batch[0])\n",
        "        accu = accuCount * 1.0 / total\n",
        "        logger.info( (\"Test accuracy %f\" %(accu)) )\n",
        "        return accu\n",
        "\n",
        "    def test_trainset_model(self, session, batch_list):\n",
        "        print \"Now, testing on the training set, notice this is only for debugging...\"\n",
        "        total = 0\n",
        "        accuCount = 0\n",
        "        for batch in batch_list:\n",
        "            batch_feat = np.array(batch[1], dtype = np.int32)[:, :, 0, :]\n",
        "            batch_feat_mask = np.array(batch[1], dtype = np.float32)[:, :, 1, :]\n",
        "            batch_mask = np.array(batch[2], dtype = np.float32)\n",
        "\n",
        "            pred = self.predict_on_batch(session, batch_feat, batch_feat_mask, batch_mask)\n",
        "            accuCount += np.sum(np.argmax(pred,1) == batch[0])\n",
        "            total += len(batch[0])\n",
        "        accu = accuCount * 1.0 / total\n",
        "        logger.info( (\"Test accuracy on training set is: %f\" %(accu)) )\n",
        "        return accu\n",
        "\n",
        "    def process_model_output(self):\n",
        "\n",
        "        pkl_file = open('/content/auth_id/data_sentence_index.pkl', 'rb') #changed filename from data_sentence_index_test to data_sentence to load train data\n",
        "        batch_list = pickle.load(pkl_file)\n",
        "        pkl_file.close()\n",
        "\n",
        "        test_size = int(len(batch_list) / 10)\n",
        "        training_batch = batch_list[0 : len(batch_list) - test_size]\n",
        "        print test_size, len(batch_list)\n",
        "        testing_batch = batch_list[len(batch_list) - test_size : len(batch_list)]\n",
        "\n",
        "        init = tf.global_variables_initializer()\n",
        "        saver = tf.train.Saver()\n",
        "        with tf.Session() as session:\n",
        "            session.run(init)\n",
        "            #load_path = \"results/RNN/20170318_221625/model.weights_10\"\n",
        "            saver.restore(session, \"./model_weights\")\n",
        "\n",
        "            print \"Now, collecting the model outputs...\"\n",
        "            total = 0\n",
        "            accuCount = 0\n",
        "            pred_list = []\n",
        "            real_label_list = []\n",
        "            for batch in testing_batch:\n",
        "                batch_feat = np.array(batch[1], dtype = np.int32)[:, :, 0, :]\n",
        "                batch_feat_mask = np.array(batch[1], dtype = np.float32)[:, :, 1, :]\n",
        "                batch_mask = np.array(batch[2], dtype = np.float32)\n",
        "\n",
        "                pred = self.predict_on_batch(session, batch_feat, batch_feat_mask, batch_mask)\n",
        "                accuCount += np.sum(np.argmax(pred,1) == batch[0])\n",
        "                pred_list.extend(np.argmax(pred,1).tolist())\n",
        "                real_label_list.extend(batch[0])\n",
        "                total += len(batch[0])\n",
        "            accu = accuCount * 1.0 / total\n",
        "            print( (\"Test accuracy %f\" %(accu)) )\n",
        "\n",
        "            t_cm = cm.generate_cm(real_label_list,pred_list, Config.n_classes)\n",
        "            x = t_cm.as_matrix().astype(np.uint8)\n",
        "            print x\n",
        "            du.visualize_cm(x, \"gutenberg_sentence\")\n",
        "            return accu        \n",
        "\n",
        "    def train_model(self):\n",
        "        # modify txt name from here\n",
        "        level='' # 'word' or ''\n",
        "        dataset='c50'\n",
        "        parameter='hs'\n",
        "        date='0319'\n",
        "        training_history_txt_filename='/content/auth_id/results/lstm'+level+'_'+parameter+'_'+dataset+'_'+date  +'.txt'\n",
        "\n",
        "        if not os.path.exists(config.log_output):\n",
        "            os.makedirs(os.path.dirname(config.log_output))\n",
        "        handler = logging.FileHandler(config.log_output)\n",
        "        handler.setLevel(logging.DEBUG)\n",
        "        handler.setFormatter(logging.Formatter('%(message)s'))\n",
        "        logging.getLogger().addHandler(handler)\n",
        "\n",
        "        pkl_file = open('/content/auth_id/data_sentence_index.pkl', 'rb')\n",
        "        batch_list = pickle.load(pkl_file)\n",
        "        pkl_file.close()\n",
        "\n",
        "        # write training_history\n",
        "        print training_history_txt_filename\n",
        "        training_history_file = open(training_history_txt_filename,'a+')\n",
        "        print training_history_file\n",
        "        self.record_history_init(training_history_file)\n",
        "\n",
        "        test_size = int(len(batch_list) / 10)\n",
        "        training_batch = batch_list[0 : len(batch_list) - test_size]\n",
        "        print test_size, len(batch_list)\n",
        "        testing_train_batch = batch_list[test_size : 2 * test_size]\n",
        "        testing_batch = batch_list[len(batch_list) - test_size : len(batch_list)]\n",
        "\n",
        "        init = tf.global_variables_initializer()\n",
        "        saver = tf.train.Saver()\n",
        "        with tf.Session() as session:\n",
        "            session.run(init)\n",
        "          \n",
        "            #the following is a test for what in tensor\n",
        "            batch = training_batch[0]\n",
        "            batch_label = rmb.convertOnehotLabel(batch[0],  Config.n_classes)\n",
        "            batch_feat = np.array(batch[1], dtype = np.int32)[:, :, 0, :]\n",
        "            batch_feat_mask = np.array(batch[1], dtype = np.float32)[:, :, 1, :]\n",
        "            batch_mask = np.array(batch[2], dtype = np.float32)\n",
        "            feed = self.create_feed_dict(batch_feat, batch_feat_mask, labels_batch=batch_label, mask_batch=batch_mask,\n",
        "                                     dropout=Config.dropout)\n",
        "            _, loss= session.run([self.train_op, self.loss, ], feed_dict=feed)\n",
        "            ##############\n",
        "\n",
        "\n",
        "            for iterTime in range(Config.n_epochs):\n",
        "                loss_list = []\n",
        "                smallIter = 0\n",
        "\n",
        "                for batch in training_batch:\n",
        "                    batch_label = rmb.convertOnehotLabel(batch[0],  Config.n_classes)\n",
        "                    batch_feat = np.array(batch[1], dtype = np.int32)[:, :, 0, :]\n",
        "                    batch_feat_mask = np.array(batch[1], dtype = np.float32)[:, :, 1, :]\n",
        "                    batch_mask = np.array(batch[2], dtype = np.float32)\n",
        "                    #print batch_mask\n",
        "                    loss = self.train_on_batch(session, batch_feat,batch_feat_mask, batch_label, batch_mask)\n",
        "                    loss_list.append(loss)\n",
        "                    smallIter += 1\n",
        "\n",
        "                    if(smallIter % 20 == 0):\n",
        "\n",
        "                        #self.test_trainset_model(session, testing_train_batch)\n",
        "                        #self.test_model(session, testing_batch)\n",
        "                        logger.info((\"Intermediate epoch %d Total Iteration %d: loss : %f\" %(iterTime, smallIter, np.mean(np.mean(np.array(loss)))) ))\n",
        "\n",
        "                # record training history on this epoch\n",
        "                train_accu=self.test_trainset_model(session, testing_train_batch)\n",
        "                test_accu=self.test_model(session, testing_batch)\n",
        "                average_train_loss=np.mean(np.array(loss_list))\n",
        "                self.record_history_accu(training_history_file,iterTime,average_train_loss,train_accu,test_accu)\n",
        "\n",
        "                if(iterTime % 10 == 0):\n",
        "                    logger.info((\"epoch %d : loss : %f\" %(iterTime, np.mean(np.mean(np.array(loss)))) ))\n",
        "                    saver.save(session, \"./model_weights\") #changed path name to model_weights\n",
        "\n",
        "                    #if(smallIter % 200 == 0):\n",
        "                    print (\"Intermediate epoch %d : loss : %f\" %(iterTime, np.mean(np.mean(np.array(loss)))) )\n",
        "\n",
        "            print (\"epoch %d : loss : %f\" %(iterTime, np.mean(np.mean(np.array(loss)))) )\n",
        "\n",
        "            self.record_history_finish(training_history_file)   #all logging on output screen in thru this function. Process model output only generates the confusion matrix\n",
        "\n",
        "\n",
        "\n",
        "    def __init__(self, config, pretrained_embeddings, report=None):\n",
        "\n",
        "        super(RNNModel, self).__init__(config)\n",
        "        self.pretrained_embeddings = pretrained_embeddings\n",
        "        self.raw_preds=None\n",
        "        self.input_placeholder = None\n",
        "        self.labels_placeholder = None\n",
        "        self.batch_mask_placeholder = None\n",
        "        self.mask_placeholder = None\n",
        "        self.dropout_placeholder = None\n",
        "\n",
        "        self.build()\n",
        "\n",
        "\n",
        "if __name__ == \"__main__\":\n",
        "    args = \"gru\"\n",
        "    config = Config(args)\n",
        "    glove_path = \"/content/glove.6B.50d.txt\"\n",
        "    glove_vector = data_util.load_embeddings(glove_path, config.embed_size)\n",
        "    model = RNNModel(config, glove_vector.astype(np.float32))\n",
        "\n",
        "    model.train_model()\n",
        "    model.process_model_output()"
      ],
      "execution_count": null,
      "outputs": [
        {
          "output_type": "stream",
          "text": [
            "/content/auth_id/results/lstm_hs_c50_0319.txt\n",
            "<open file '/content/auth_id/results/lstm_hs_c50_0319.txt', mode 'a+' at 0x7fd191f7f930>\n",
            "15 157\n"
          ],
          "name": "stdout"
        },
        {
          "output_type": "stream",
          "text": [
            "INFO:Intermediate epoch 0 Total Iteration 20: loss : 3.610343\n",
            "INFO:Intermediate epoch 0 Total Iteration 40: loss : 3.353291\n",
            "INFO:Intermediate epoch 0 Total Iteration 60: loss : 3.169256\n",
            "INFO:Intermediate epoch 0 Total Iteration 80: loss : 2.473940\n",
            "INFO:Intermediate epoch 0 Total Iteration 100: loss : 2.925659\n",
            "INFO:Intermediate epoch 0 Total Iteration 120: loss : 2.646039\n",
            "INFO:Intermediate epoch 0 Total Iteration 140: loss : 2.389947\n"
          ],
          "name": "stderr"
        },
        {
          "output_type": "stream",
          "text": [
            "Now, testing on the training set, notice this is only for debugging...\n"
          ],
          "name": "stdout"
        },
        {
          "output_type": "stream",
          "text": [
            "INFO:Test accuracy on training set is: 0.370833\n"
          ],
          "name": "stderr"
        },
        {
          "output_type": "stream",
          "text": [
            "Now, testing on the test set...\n"
          ],
          "name": "stdout"
        },
        {
          "output_type": "stream",
          "text": [
            "INFO:Test accuracy 0.263158\n",
            "INFO:epoch 0 : loss : 2.421933\n"
          ],
          "name": "stderr"
        },
        {
          "output_type": "stream",
          "text": [
            "Intermediate epoch 0 : loss : 2.421933\n"
          ],
          "name": "stdout"
        },
        {
          "output_type": "stream",
          "text": [
            "INFO:Intermediate epoch 1 Total Iteration 20: loss : 2.179726\n",
            "INFO:Intermediate epoch 1 Total Iteration 40: loss : 1.873555\n",
            "INFO:Intermediate epoch 1 Total Iteration 60: loss : 1.376561\n",
            "INFO:Intermediate epoch 1 Total Iteration 80: loss : 1.532637\n",
            "INFO:Intermediate epoch 1 Total Iteration 100: loss : 1.906717\n",
            "INFO:Intermediate epoch 1 Total Iteration 120: loss : 1.431137\n",
            "INFO:Intermediate epoch 1 Total Iteration 140: loss : 1.236843\n"
          ],
          "name": "stderr"
        },
        {
          "output_type": "stream",
          "text": [
            "Now, testing on the training set, notice this is only for debugging...\n"
          ],
          "name": "stdout"
        },
        {
          "output_type": "stream",
          "text": [
            "INFO:Test accuracy on training set is: 0.595833\n"
          ],
          "name": "stderr"
        },
        {
          "output_type": "stream",
          "text": [
            "Now, testing on the test set...\n"
          ],
          "name": "stdout"
        },
        {
          "output_type": "stream",
          "text": [
            "INFO:Test accuracy 0.548246\n",
            "INFO:Intermediate epoch 2 Total Iteration 20: loss : 1.159055\n",
            "INFO:Intermediate epoch 2 Total Iteration 40: loss : 1.248189\n",
            "INFO:Intermediate epoch 2 Total Iteration 60: loss : 0.785357\n",
            "INFO:Intermediate epoch 2 Total Iteration 80: loss : 0.909714\n",
            "INFO:Intermediate epoch 2 Total Iteration 100: loss : 1.173240\n",
            "INFO:Intermediate epoch 2 Total Iteration 120: loss : 0.603812\n",
            "INFO:Intermediate epoch 2 Total Iteration 140: loss : 0.881961\n"
          ],
          "name": "stderr"
        },
        {
          "output_type": "stream",
          "text": [
            "Now, testing on the training set, notice this is only for debugging...\n"
          ],
          "name": "stdout"
        },
        {
          "output_type": "stream",
          "text": [
            "INFO:Test accuracy on training set is: 0.720833\n"
          ],
          "name": "stderr"
        },
        {
          "output_type": "stream",
          "text": [
            "Now, testing on the test set...\n"
          ],
          "name": "stdout"
        },
        {
          "output_type": "stream",
          "text": [
            "INFO:Test accuracy 0.548246\n",
            "INFO:Intermediate epoch 3 Total Iteration 20: loss : 0.944661\n",
            "INFO:Intermediate epoch 3 Total Iteration 40: loss : 0.629497\n",
            "INFO:Intermediate epoch 3 Total Iteration 60: loss : 0.783240\n",
            "INFO:Intermediate epoch 3 Total Iteration 80: loss : 0.478266\n",
            "INFO:Intermediate epoch 3 Total Iteration 100: loss : 1.013031\n",
            "INFO:Intermediate epoch 3 Total Iteration 120: loss : 0.450472\n",
            "INFO:Intermediate epoch 3 Total Iteration 140: loss : 0.647886\n"
          ],
          "name": "stderr"
        },
        {
          "output_type": "stream",
          "text": [
            "Now, testing on the training set, notice this is only for debugging...\n"
          ],
          "name": "stdout"
        },
        {
          "output_type": "stream",
          "text": [
            "INFO:Test accuracy on training set is: 0.783333\n"
          ],
          "name": "stderr"
        },
        {
          "output_type": "stream",
          "text": [
            "Now, testing on the test set...\n"
          ],
          "name": "stdout"
        },
        {
          "output_type": "stream",
          "text": [
            "INFO:Test accuracy 0.578947\n",
            "INFO:Intermediate epoch 4 Total Iteration 20: loss : 0.597067\n",
            "INFO:Intermediate epoch 4 Total Iteration 40: loss : 0.297747\n",
            "INFO:Intermediate epoch 4 Total Iteration 60: loss : 0.298895\n",
            "INFO:Intermediate epoch 4 Total Iteration 80: loss : 0.233846\n",
            "INFO:Intermediate epoch 4 Total Iteration 100: loss : 0.349793\n",
            "INFO:Intermediate epoch 4 Total Iteration 120: loss : 0.081553\n",
            "INFO:Intermediate epoch 4 Total Iteration 140: loss : 0.383033\n"
          ],
          "name": "stderr"
        },
        {
          "output_type": "stream",
          "text": [
            "Now, testing on the training set, notice this is only for debugging...\n"
          ],
          "name": "stdout"
        },
        {
          "output_type": "stream",
          "text": [
            "INFO:Test accuracy on training set is: 0.841667\n"
          ],
          "name": "stderr"
        },
        {
          "output_type": "stream",
          "text": [
            "Now, testing on the test set...\n"
          ],
          "name": "stdout"
        },
        {
          "output_type": "stream",
          "text": [
            "INFO:Test accuracy 0.570175\n",
            "INFO:Intermediate epoch 5 Total Iteration 20: loss : 0.645046\n",
            "INFO:Intermediate epoch 5 Total Iteration 40: loss : 0.143574\n",
            "INFO:Intermediate epoch 5 Total Iteration 60: loss : 0.124790\n",
            "INFO:Intermediate epoch 5 Total Iteration 80: loss : 0.130089\n",
            "INFO:Intermediate epoch 5 Total Iteration 100: loss : 0.247785\n",
            "INFO:Intermediate epoch 5 Total Iteration 120: loss : 0.058771\n",
            "INFO:Intermediate epoch 5 Total Iteration 140: loss : 0.255780\n"
          ],
          "name": "stderr"
        },
        {
          "output_type": "stream",
          "text": [
            "Now, testing on the training set, notice this is only for debugging...\n"
          ],
          "name": "stdout"
        },
        {
          "output_type": "stream",
          "text": [
            "INFO:Test accuracy on training set is: 0.900000\n"
          ],
          "name": "stderr"
        },
        {
          "output_type": "stream",
          "text": [
            "Now, testing on the test set...\n"
          ],
          "name": "stdout"
        },
        {
          "output_type": "stream",
          "text": [
            "INFO:Test accuracy 0.675439\n",
            "INFO:Intermediate epoch 6 Total Iteration 20: loss : 0.351277\n",
            "INFO:Intermediate epoch 6 Total Iteration 40: loss : 0.129348\n",
            "INFO:Intermediate epoch 6 Total Iteration 60: loss : 0.055131\n",
            "INFO:Intermediate epoch 6 Total Iteration 80: loss : 0.292213\n",
            "INFO:Intermediate epoch 6 Total Iteration 100: loss : 0.085032\n",
            "INFO:Intermediate epoch 6 Total Iteration 120: loss : 0.074938\n",
            "INFO:Intermediate epoch 6 Total Iteration 140: loss : 0.127338\n"
          ],
          "name": "stderr"
        },
        {
          "output_type": "stream",
          "text": [
            "Now, testing on the training set, notice this is only for debugging...\n"
          ],
          "name": "stdout"
        },
        {
          "output_type": "stream",
          "text": [
            "INFO:Test accuracy on training set is: 0.941667\n"
          ],
          "name": "stderr"
        },
        {
          "output_type": "stream",
          "text": [
            "Now, testing on the test set...\n"
          ],
          "name": "stdout"
        },
        {
          "output_type": "stream",
          "text": [
            "INFO:Test accuracy 0.649123\n",
            "INFO:Intermediate epoch 7 Total Iteration 20: loss : 0.097491\n",
            "INFO:Intermediate epoch 7 Total Iteration 40: loss : 0.056320\n",
            "INFO:Intermediate epoch 7 Total Iteration 60: loss : 0.910366\n",
            "INFO:Intermediate epoch 7 Total Iteration 80: loss : 0.056322\n",
            "INFO:Intermediate epoch 7 Total Iteration 100: loss : 0.261098\n",
            "INFO:Intermediate epoch 7 Total Iteration 120: loss : 0.142968\n",
            "INFO:Intermediate epoch 7 Total Iteration 140: loss : 0.079078\n"
          ],
          "name": "stderr"
        },
        {
          "output_type": "stream",
          "text": [
            "Now, testing on the training set, notice this is only for debugging...\n"
          ],
          "name": "stdout"
        },
        {
          "output_type": "stream",
          "text": [
            "INFO:Test accuracy on training set is: 0.987500\n"
          ],
          "name": "stderr"
        },
        {
          "output_type": "stream",
          "text": [
            "Now, testing on the test set...\n"
          ],
          "name": "stdout"
        },
        {
          "output_type": "stream",
          "text": [
            "INFO:Test accuracy 0.662281\n",
            "INFO:Intermediate epoch 8 Total Iteration 20: loss : 0.046239\n",
            "INFO:Intermediate epoch 8 Total Iteration 40: loss : 0.187212\n",
            "INFO:Intermediate epoch 8 Total Iteration 60: loss : 0.111438\n",
            "INFO:Intermediate epoch 8 Total Iteration 80: loss : 0.060600\n",
            "INFO:Intermediate epoch 8 Total Iteration 100: loss : 0.033592\n",
            "INFO:Intermediate epoch 8 Total Iteration 120: loss : 0.034224\n",
            "INFO:Intermediate epoch 8 Total Iteration 140: loss : 0.042528\n"
          ],
          "name": "stderr"
        },
        {
          "output_type": "stream",
          "text": [
            "Now, testing on the training set, notice this is only for debugging...\n"
          ],
          "name": "stdout"
        },
        {
          "output_type": "stream",
          "text": [
            "INFO:Test accuracy on training set is: 0.995833\n"
          ],
          "name": "stderr"
        },
        {
          "output_type": "stream",
          "text": [
            "Now, testing on the test set...\n"
          ],
          "name": "stdout"
        },
        {
          "output_type": "stream",
          "text": [
            "INFO:Test accuracy 0.697368\n",
            "INFO:Intermediate epoch 9 Total Iteration 20: loss : 0.046948\n",
            "INFO:Intermediate epoch 9 Total Iteration 40: loss : 0.037392\n",
            "INFO:Intermediate epoch 9 Total Iteration 60: loss : 0.031410\n",
            "INFO:Intermediate epoch 9 Total Iteration 80: loss : 0.034845\n",
            "INFO:Intermediate epoch 9 Total Iteration 100: loss : 0.146324\n",
            "INFO:Intermediate epoch 9 Total Iteration 120: loss : 0.037506\n",
            "INFO:Intermediate epoch 9 Total Iteration 140: loss : 0.045143\n"
          ],
          "name": "stderr"
        },
        {
          "output_type": "stream",
          "text": [
            "Now, testing on the training set, notice this is only for debugging...\n"
          ],
          "name": "stdout"
        },
        {
          "output_type": "stream",
          "text": [
            "INFO:Test accuracy on training set is: 0.995833\n"
          ],
          "name": "stderr"
        },
        {
          "output_type": "stream",
          "text": [
            "Now, testing on the test set...\n"
          ],
          "name": "stdout"
        },
        {
          "output_type": "stream",
          "text": [
            "INFO:Test accuracy 0.657895\n",
            "INFO:Intermediate epoch 10 Total Iteration 20: loss : 0.037457\n",
            "INFO:Intermediate epoch 10 Total Iteration 40: loss : 0.035618\n",
            "INFO:Intermediate epoch 10 Total Iteration 60: loss : 0.031741\n",
            "INFO:Intermediate epoch 10 Total Iteration 80: loss : 0.032485\n",
            "INFO:Intermediate epoch 10 Total Iteration 100: loss : 0.034009\n",
            "INFO:Intermediate epoch 10 Total Iteration 120: loss : 0.032508\n",
            "INFO:Intermediate epoch 10 Total Iteration 140: loss : 0.035059\n"
          ],
          "name": "stderr"
        },
        {
          "output_type": "stream",
          "text": [
            "Now, testing on the training set, notice this is only for debugging...\n"
          ],
          "name": "stdout"
        },
        {
          "output_type": "stream",
          "text": [
            "INFO:Test accuracy on training set is: 1.000000\n"
          ],
          "name": "stderr"
        },
        {
          "output_type": "stream",
          "text": [
            "Now, testing on the test set...\n"
          ],
          "name": "stdout"
        },
        {
          "output_type": "stream",
          "text": [
            "INFO:Test accuracy 0.675439\n",
            "INFO:epoch 10 : loss : 0.032013\n"
          ],
          "name": "stderr"
        },
        {
          "output_type": "stream",
          "text": [
            "Intermediate epoch 10 : loss : 0.032013\n"
          ],
          "name": "stdout"
        },
        {
          "output_type": "stream",
          "text": [
            "INFO:Intermediate epoch 11 Total Iteration 20: loss : 0.035148\n",
            "INFO:Intermediate epoch 11 Total Iteration 40: loss : 0.032333\n",
            "INFO:Intermediate epoch 11 Total Iteration 60: loss : 0.030576\n",
            "INFO:Intermediate epoch 11 Total Iteration 80: loss : 0.031143\n",
            "INFO:Intermediate epoch 11 Total Iteration 100: loss : 0.033848\n",
            "INFO:Intermediate epoch 11 Total Iteration 120: loss : 0.031129\n",
            "INFO:Intermediate epoch 11 Total Iteration 140: loss : 0.031163\n"
          ],
          "name": "stderr"
        },
        {
          "output_type": "stream",
          "text": [
            "Now, testing on the training set, notice this is only for debugging...\n"
          ],
          "name": "stdout"
        },
        {
          "output_type": "stream",
          "text": [
            "INFO:Test accuracy on training set is: 1.000000\n"
          ],
          "name": "stderr"
        },
        {
          "output_type": "stream",
          "text": [
            "Now, testing on the test set...\n"
          ],
          "name": "stdout"
        },
        {
          "output_type": "stream",
          "text": [
            "INFO:Test accuracy 0.692982\n",
            "INFO:Intermediate epoch 12 Total Iteration 20: loss : 0.032431\n",
            "INFO:Intermediate epoch 12 Total Iteration 40: loss : 0.031194\n",
            "INFO:Intermediate epoch 12 Total Iteration 60: loss : 0.029577\n",
            "INFO:Intermediate epoch 12 Total Iteration 80: loss : 0.030100\n",
            "INFO:Intermediate epoch 12 Total Iteration 100: loss : 0.029319\n",
            "INFO:Intermediate epoch 12 Total Iteration 120: loss : 0.029594\n",
            "INFO:Intermediate epoch 12 Total Iteration 140: loss : 0.029457\n"
          ],
          "name": "stderr"
        },
        {
          "output_type": "stream",
          "text": [
            "Now, testing on the training set, notice this is only for debugging...\n"
          ],
          "name": "stdout"
        },
        {
          "output_type": "stream",
          "text": [
            "INFO:Test accuracy on training set is: 1.000000\n"
          ],
          "name": "stderr"
        },
        {
          "output_type": "stream",
          "text": [
            "Now, testing on the test set...\n"
          ],
          "name": "stdout"
        },
        {
          "output_type": "stream",
          "text": [
            "INFO:Test accuracy 0.710526\n",
            "INFO:Intermediate epoch 13 Total Iteration 20: loss : 0.031208\n",
            "INFO:Intermediate epoch 13 Total Iteration 40: loss : 0.029778\n",
            "INFO:Intermediate epoch 13 Total Iteration 60: loss : 0.028568\n",
            "INFO:Intermediate epoch 13 Total Iteration 80: loss : 0.028842\n",
            "INFO:Intermediate epoch 13 Total Iteration 100: loss : 0.028410\n",
            "INFO:Intermediate epoch 13 Total Iteration 120: loss : 0.028519\n",
            "INFO:Intermediate epoch 13 Total Iteration 140: loss : 0.029108\n"
          ],
          "name": "stderr"
        },
        {
          "output_type": "stream",
          "text": [
            "Now, testing on the training set, notice this is only for debugging...\n"
          ],
          "name": "stdout"
        },
        {
          "output_type": "stream",
          "text": [
            "INFO:Test accuracy on training set is: 1.000000\n"
          ],
          "name": "stderr"
        },
        {
          "output_type": "stream",
          "text": [
            "Now, testing on the test set...\n"
          ],
          "name": "stdout"
        },
        {
          "output_type": "stream",
          "text": [
            "INFO:Test accuracy 0.710526\n",
            "INFO:Intermediate epoch 14 Total Iteration 20: loss : 0.028781\n",
            "INFO:Intermediate epoch 14 Total Iteration 40: loss : 0.028943\n",
            "INFO:Intermediate epoch 14 Total Iteration 60: loss : 0.027474\n",
            "INFO:Intermediate epoch 14 Total Iteration 80: loss : 0.027440\n",
            "INFO:Intermediate epoch 14 Total Iteration 100: loss : 0.027266\n",
            "INFO:Intermediate epoch 14 Total Iteration 120: loss : 0.027247\n",
            "INFO:Intermediate epoch 14 Total Iteration 140: loss : 0.027422\n"
          ],
          "name": "stderr"
        },
        {
          "output_type": "stream",
          "text": [
            "Now, testing on the training set, notice this is only for debugging...\n"
          ],
          "name": "stdout"
        },
        {
          "output_type": "stream",
          "text": [
            "INFO:Test accuracy on training set is: 1.000000\n"
          ],
          "name": "stderr"
        },
        {
          "output_type": "stream",
          "text": [
            "Now, testing on the test set...\n"
          ],
          "name": "stdout"
        },
        {
          "output_type": "stream",
          "text": [
            "INFO:Test accuracy 0.719298\n",
            "INFO:Intermediate epoch 15 Total Iteration 20: loss : 0.028033\n",
            "INFO:Intermediate epoch 15 Total Iteration 40: loss : 0.027523\n",
            "INFO:Intermediate epoch 15 Total Iteration 60: loss : 0.026378\n",
            "INFO:Intermediate epoch 15 Total Iteration 80: loss : 0.026350\n",
            "INFO:Intermediate epoch 15 Total Iteration 100: loss : 0.026101\n",
            "INFO:Intermediate epoch 15 Total Iteration 120: loss : 0.026154\n",
            "INFO:Intermediate epoch 15 Total Iteration 140: loss : 0.026276\n"
          ],
          "name": "stderr"
        },
        {
          "output_type": "stream",
          "text": [
            "Now, testing on the training set, notice this is only for debugging...\n"
          ],
          "name": "stdout"
        },
        {
          "output_type": "stream",
          "text": [
            "INFO:Test accuracy on training set is: 1.000000\n"
          ],
          "name": "stderr"
        },
        {
          "output_type": "stream",
          "text": [
            "Now, testing on the test set...\n"
          ],
          "name": "stdout"
        },
        {
          "output_type": "stream",
          "text": [
            "INFO:Test accuracy 0.719298\n",
            "INFO:Intermediate epoch 16 Total Iteration 20: loss : 0.026684\n",
            "INFO:Intermediate epoch 16 Total Iteration 40: loss : 0.026029\n",
            "INFO:Intermediate epoch 16 Total Iteration 60: loss : 0.025299\n",
            "INFO:Intermediate epoch 16 Total Iteration 80: loss : 0.025203\n",
            "INFO:Intermediate epoch 16 Total Iteration 100: loss : 0.024992\n",
            "INFO:Intermediate epoch 16 Total Iteration 120: loss : 0.025031\n",
            "INFO:Intermediate epoch 16 Total Iteration 140: loss : 0.024986\n"
          ],
          "name": "stderr"
        },
        {
          "output_type": "stream",
          "text": [
            "Now, testing on the training set, notice this is only for debugging...\n"
          ],
          "name": "stdout"
        },
        {
          "output_type": "stream",
          "text": [
            "INFO:Test accuracy on training set is: 1.000000\n"
          ],
          "name": "stderr"
        },
        {
          "output_type": "stream",
          "text": [
            "Now, testing on the test set...\n"
          ],
          "name": "stdout"
        },
        {
          "output_type": "stream",
          "text": [
            "INFO:Test accuracy 0.723684\n",
            "INFO:Intermediate epoch 17 Total Iteration 20: loss : 0.025434\n",
            "INFO:Intermediate epoch 17 Total Iteration 40: loss : 0.025092\n",
            "INFO:Intermediate epoch 17 Total Iteration 60: loss : 0.024229\n",
            "INFO:Intermediate epoch 17 Total Iteration 80: loss : 0.024143\n",
            "INFO:Intermediate epoch 17 Total Iteration 100: loss : 0.023900\n",
            "INFO:Intermediate epoch 17 Total Iteration 120: loss : 0.023890\n",
            "INFO:Intermediate epoch 17 Total Iteration 140: loss : 0.023892\n"
          ],
          "name": "stderr"
        },
        {
          "output_type": "stream",
          "text": [
            "Now, testing on the training set, notice this is only for debugging...\n"
          ],
          "name": "stdout"
        },
        {
          "output_type": "stream",
          "text": [
            "INFO:Test accuracy on training set is: 1.000000\n"
          ],
          "name": "stderr"
        },
        {
          "output_type": "stream",
          "text": [
            "Now, testing on the test set...\n"
          ],
          "name": "stdout"
        },
        {
          "output_type": "stream",
          "text": [
            "INFO:Test accuracy 0.710526\n",
            "INFO:Intermediate epoch 18 Total Iteration 20: loss : 0.024999\n",
            "INFO:Intermediate epoch 18 Total Iteration 40: loss : 0.024060\n",
            "INFO:Intermediate epoch 18 Total Iteration 60: loss : 0.023143\n",
            "INFO:Intermediate epoch 18 Total Iteration 80: loss : 0.023082\n",
            "INFO:Intermediate epoch 18 Total Iteration 100: loss : 0.022830\n",
            "INFO:Intermediate epoch 18 Total Iteration 120: loss : 0.022839\n",
            "INFO:Intermediate epoch 18 Total Iteration 140: loss : 0.022790\n"
          ],
          "name": "stderr"
        },
        {
          "output_type": "stream",
          "text": [
            "Now, testing on the training set, notice this is only for debugging...\n"
          ],
          "name": "stdout"
        },
        {
          "output_type": "stream",
          "text": [
            "INFO:Test accuracy on training set is: 1.000000\n"
          ],
          "name": "stderr"
        },
        {
          "output_type": "stream",
          "text": [
            "Now, testing on the test set...\n"
          ],
          "name": "stdout"
        },
        {
          "output_type": "stream",
          "text": [
            "INFO:Test accuracy 0.710526\n",
            "INFO:Intermediate epoch 19 Total Iteration 20: loss : 0.023041\n",
            "INFO:Intermediate epoch 19 Total Iteration 40: loss : 0.022660\n",
            "INFO:Intermediate epoch 19 Total Iteration 60: loss : 0.022089\n",
            "INFO:Intermediate epoch 19 Total Iteration 80: loss : 0.021987\n",
            "INFO:Intermediate epoch 19 Total Iteration 100: loss : 0.021776\n",
            "INFO:Intermediate epoch 19 Total Iteration 120: loss : 0.021738\n",
            "INFO:Intermediate epoch 19 Total Iteration 140: loss : 0.021745\n"
          ],
          "name": "stderr"
        },
        {
          "output_type": "stream",
          "text": [
            "Now, testing on the training set, notice this is only for debugging...\n"
          ],
          "name": "stdout"
        },
        {
          "output_type": "stream",
          "text": [
            "INFO:Test accuracy on training set is: 1.000000\n"
          ],
          "name": "stderr"
        },
        {
          "output_type": "stream",
          "text": [
            "Now, testing on the test set...\n"
          ],
          "name": "stdout"
        },
        {
          "output_type": "stream",
          "text": [
            "INFO:Test accuracy 0.710526\n",
            "INFO:Intermediate epoch 20 Total Iteration 20: loss : 0.022797\n",
            "INFO:Intermediate epoch 20 Total Iteration 40: loss : 0.021725\n",
            "INFO:Intermediate epoch 20 Total Iteration 60: loss : 0.021056\n",
            "INFO:Intermediate epoch 20 Total Iteration 80: loss : 0.020951\n",
            "INFO:Intermediate epoch 20 Total Iteration 100: loss : 0.020724\n",
            "INFO:Intermediate epoch 20 Total Iteration 120: loss : 0.020710\n",
            "INFO:Intermediate epoch 20 Total Iteration 140: loss : 0.020688\n"
          ],
          "name": "stderr"
        },
        {
          "output_type": "stream",
          "text": [
            "Now, testing on the training set, notice this is only for debugging...\n"
          ],
          "name": "stdout"
        },
        {
          "output_type": "stream",
          "text": [
            "INFO:Test accuracy on training set is: 1.000000\n"
          ],
          "name": "stderr"
        },
        {
          "output_type": "stream",
          "text": [
            "Now, testing on the test set...\n"
          ],
          "name": "stdout"
        },
        {
          "output_type": "stream",
          "text": [
            "INFO:Test accuracy 0.710526\n",
            "INFO:epoch 20 : loss : 0.020373\n"
          ],
          "name": "stderr"
        },
        {
          "output_type": "stream",
          "text": [
            "Intermediate epoch 20 : loss : 0.020373\n"
          ],
          "name": "stdout"
        },
        {
          "output_type": "stream",
          "text": [
            "INFO:Intermediate epoch 21 Total Iteration 20: loss : 0.020995\n",
            "INFO:Intermediate epoch 21 Total Iteration 40: loss : 0.020541\n",
            "INFO:Intermediate epoch 21 Total Iteration 60: loss : 0.020014\n",
            "INFO:Intermediate epoch 21 Total Iteration 80: loss : 0.019919\n",
            "INFO:Intermediate epoch 21 Total Iteration 100: loss : 0.019697\n",
            "INFO:Intermediate epoch 21 Total Iteration 120: loss : 0.019636\n",
            "INFO:Intermediate epoch 21 Total Iteration 140: loss : 0.019605\n"
          ],
          "name": "stderr"
        },
        {
          "output_type": "stream",
          "text": [
            "Now, testing on the training set, notice this is only for debugging...\n"
          ],
          "name": "stdout"
        },
        {
          "output_type": "stream",
          "text": [
            "INFO:Test accuracy on training set is: 1.000000\n"
          ],
          "name": "stderr"
        },
        {
          "output_type": "stream",
          "text": [
            "Now, testing on the test set...\n"
          ],
          "name": "stdout"
        },
        {
          "output_type": "stream",
          "text": [
            "INFO:Test accuracy 0.714912\n",
            "INFO:Intermediate epoch 22 Total Iteration 20: loss : 0.020392\n",
            "INFO:Intermediate epoch 22 Total Iteration 40: loss : 0.019655\n",
            "INFO:Intermediate epoch 22 Total Iteration 60: loss : 0.019009\n",
            "INFO:Intermediate epoch 22 Total Iteration 80: loss : 0.018917\n",
            "INFO:Intermediate epoch 22 Total Iteration 100: loss : 0.018695\n",
            "INFO:Intermediate epoch 22 Total Iteration 120: loss : 0.018640\n",
            "INFO:Intermediate epoch 22 Total Iteration 140: loss : 0.018733\n"
          ],
          "name": "stderr"
        },
        {
          "output_type": "stream",
          "text": [
            "Now, testing on the training set, notice this is only for debugging...\n"
          ],
          "name": "stdout"
        },
        {
          "output_type": "stream",
          "text": [
            "INFO:Test accuracy on training set is: 1.000000\n"
          ],
          "name": "stderr"
        },
        {
          "output_type": "stream",
          "text": [
            "Now, testing on the test set...\n"
          ],
          "name": "stdout"
        },
        {
          "output_type": "stream",
          "text": [
            "INFO:Test accuracy 0.714912\n",
            "INFO:Intermediate epoch 23 Total Iteration 20: loss : 0.019041\n",
            "INFO:Intermediate epoch 23 Total Iteration 40: loss : 0.018776\n",
            "INFO:Intermediate epoch 23 Total Iteration 60: loss : 0.018029\n",
            "INFO:Intermediate epoch 23 Total Iteration 80: loss : 0.017970\n",
            "INFO:Intermediate epoch 23 Total Iteration 100: loss : 0.017719\n",
            "INFO:Intermediate epoch 23 Total Iteration 120: loss : 0.017679\n",
            "INFO:Intermediate epoch 23 Total Iteration 140: loss : 0.017705\n"
          ],
          "name": "stderr"
        },
        {
          "output_type": "stream",
          "text": [
            "Now, testing on the training set, notice this is only for debugging...\n"
          ],
          "name": "stdout"
        },
        {
          "output_type": "stream",
          "text": [
            "INFO:Test accuracy on training set is: 1.000000\n"
          ],
          "name": "stderr"
        },
        {
          "output_type": "stream",
          "text": [
            "Now, testing on the test set...\n"
          ],
          "name": "stdout"
        },
        {
          "output_type": "stream",
          "text": [
            "INFO:Test accuracy 0.706140\n",
            "INFO:Intermediate epoch 24 Total Iteration 20: loss : 0.017838\n",
            "INFO:Intermediate epoch 24 Total Iteration 40: loss : 0.017773\n",
            "INFO:Intermediate epoch 24 Total Iteration 60: loss : 0.017087\n",
            "INFO:Intermediate epoch 24 Total Iteration 80: loss : 0.016984\n",
            "INFO:Intermediate epoch 24 Total Iteration 100: loss : 0.016777\n",
            "INFO:Intermediate epoch 24 Total Iteration 120: loss : 0.016740\n",
            "INFO:Intermediate epoch 24 Total Iteration 140: loss : 0.016819\n"
          ],
          "name": "stderr"
        },
        {
          "output_type": "stream",
          "text": [
            "Now, testing on the training set, notice this is only for debugging...\n"
          ],
          "name": "stdout"
        },
        {
          "output_type": "stream",
          "text": [
            "INFO:Test accuracy on training set is: 1.000000\n"
          ],
          "name": "stderr"
        },
        {
          "output_type": "stream",
          "text": [
            "Now, testing on the test set...\n"
          ],
          "name": "stdout"
        },
        {
          "output_type": "stream",
          "text": [
            "INFO:Test accuracy 0.701754\n",
            "INFO:Intermediate epoch 25 Total Iteration 20: loss : 0.016963\n",
            "INFO:Intermediate epoch 25 Total Iteration 40: loss : 0.016835\n",
            "INFO:Intermediate epoch 25 Total Iteration 60: loss : 0.016157\n",
            "INFO:Intermediate epoch 25 Total Iteration 80: loss : 0.016136\n",
            "INFO:Intermediate epoch 25 Total Iteration 100: loss : 0.015869\n",
            "INFO:Intermediate epoch 25 Total Iteration 120: loss : 0.015828\n",
            "INFO:Intermediate epoch 25 Total Iteration 140: loss : 0.015879\n"
          ],
          "name": "stderr"
        },
        {
          "output_type": "stream",
          "text": [
            "Now, testing on the training set, notice this is only for debugging...\n"
          ],
          "name": "stdout"
        },
        {
          "output_type": "stream",
          "text": [
            "INFO:Test accuracy on training set is: 1.000000\n"
          ],
          "name": "stderr"
        },
        {
          "output_type": "stream",
          "text": [
            "Now, testing on the test set...\n"
          ],
          "name": "stdout"
        },
        {
          "output_type": "stream",
          "text": [
            "INFO:Test accuracy 0.706140\n",
            "INFO:Intermediate epoch 26 Total Iteration 20: loss : 0.016414\n",
            "INFO:Intermediate epoch 26 Total Iteration 40: loss : 0.015929\n",
            "INFO:Intermediate epoch 26 Total Iteration 60: loss : 0.015297\n",
            "INFO:Intermediate epoch 26 Total Iteration 80: loss : 0.015220\n",
            "INFO:Intermediate epoch 26 Total Iteration 100: loss : 0.014991\n",
            "INFO:Intermediate epoch 26 Total Iteration 120: loss : 0.014948\n",
            "INFO:Intermediate epoch 26 Total Iteration 140: loss : 0.015059\n"
          ],
          "name": "stderr"
        },
        {
          "output_type": "stream",
          "text": [
            "Now, testing on the training set, notice this is only for debugging...\n"
          ],
          "name": "stdout"
        },
        {
          "output_type": "stream",
          "text": [
            "INFO:Test accuracy on training set is: 1.000000\n"
          ],
          "name": "stderr"
        },
        {
          "output_type": "stream",
          "text": [
            "Now, testing on the test set...\n"
          ],
          "name": "stdout"
        },
        {
          "output_type": "stream",
          "text": [
            "INFO:Test accuracy 0.710526\n",
            "INFO:Intermediate epoch 27 Total Iteration 20: loss : 0.015354\n",
            "INFO:Intermediate epoch 27 Total Iteration 40: loss : 0.015080\n",
            "INFO:Intermediate epoch 27 Total Iteration 60: loss : 0.014448\n",
            "INFO:Intermediate epoch 27 Total Iteration 80: loss : 0.014378\n",
            "INFO:Intermediate epoch 27 Total Iteration 100: loss : 0.014161\n",
            "INFO:Intermediate epoch 27 Total Iteration 120: loss : 0.014103\n",
            "INFO:Intermediate epoch 27 Total Iteration 140: loss : 0.014098\n"
          ],
          "name": "stderr"
        },
        {
          "output_type": "stream",
          "text": [
            "Now, testing on the training set, notice this is only for debugging...\n"
          ],
          "name": "stdout"
        },
        {
          "output_type": "stream",
          "text": [
            "INFO:Test accuracy on training set is: 1.000000\n"
          ],
          "name": "stderr"
        },
        {
          "output_type": "stream",
          "text": [
            "Now, testing on the test set...\n"
          ],
          "name": "stdout"
        },
        {
          "output_type": "stream",
          "text": [
            "INFO:Test accuracy 0.710526\n",
            "INFO:Intermediate epoch 28 Total Iteration 20: loss : 0.014281\n",
            "INFO:Intermediate epoch 28 Total Iteration 40: loss : 0.014114\n",
            "INFO:Intermediate epoch 28 Total Iteration 60: loss : 0.013658\n",
            "INFO:Intermediate epoch 28 Total Iteration 80: loss : 0.013619\n",
            "INFO:Intermediate epoch 28 Total Iteration 100: loss : 0.013370\n",
            "INFO:Intermediate epoch 28 Total Iteration 120: loss : 0.013324\n",
            "INFO:Intermediate epoch 28 Total Iteration 140: loss : 0.013367\n"
          ],
          "name": "stderr"
        },
        {
          "output_type": "stream",
          "text": [
            "Now, testing on the training set, notice this is only for debugging...\n"
          ],
          "name": "stdout"
        },
        {
          "output_type": "stream",
          "text": [
            "INFO:Test accuracy on training set is: 1.000000\n"
          ],
          "name": "stderr"
        },
        {
          "output_type": "stream",
          "text": [
            "Now, testing on the test set...\n"
          ],
          "name": "stdout"
        },
        {
          "output_type": "stream",
          "text": [
            "INFO:Test accuracy 0.706140\n",
            "INFO:Intermediate epoch 29 Total Iteration 20: loss : 0.013610\n",
            "INFO:Intermediate epoch 29 Total Iteration 40: loss : 0.013373\n",
            "INFO:Intermediate epoch 29 Total Iteration 60: loss : 0.012859\n",
            "INFO:Intermediate epoch 29 Total Iteration 80: loss : 0.012806\n",
            "INFO:Intermediate epoch 29 Total Iteration 100: loss : 0.012626\n",
            "INFO:Intermediate epoch 29 Total Iteration 120: loss : 0.012584\n",
            "INFO:Intermediate epoch 29 Total Iteration 140: loss : 0.012634\n"
          ],
          "name": "stderr"
        },
        {
          "output_type": "stream",
          "text": [
            "Now, testing on the training set, notice this is only for debugging...\n"
          ],
          "name": "stdout"
        },
        {
          "output_type": "stream",
          "text": [
            "INFO:Test accuracy on training set is: 1.000000\n"
          ],
          "name": "stderr"
        },
        {
          "output_type": "stream",
          "text": [
            "Now, testing on the test set...\n"
          ],
          "name": "stdout"
        },
        {
          "output_type": "stream",
          "text": [
            "INFO:Test accuracy 0.697368\n"
          ],
          "name": "stderr"
        },
        {
          "output_type": "stream",
          "text": [
            "epoch 29 : loss : 0.012394\n",
            "15 157\n"
          ],
          "name": "stdout"
        },
        {
          "output_type": "stream",
          "text": [
            "INFO:Restoring parameters from ./model_weights\n"
          ],
          "name": "stderr"
        },
        {
          "output_type": "stream",
          "text": [
            "Now, collecting the model outputs...\n",
            "Test accuracy 0.710526\n",
            "[[1 0 0 ... 0 0 0]\n",
            " [0 2 0 ... 1 0 0]\n",
            " [0 0 5 ... 0 0 0]\n",
            " ...\n",
            " [0 0 0 ... 3 0 0]\n",
            " [0 0 0 ... 0 3 0]\n",
            " [0 0 0 ... 0 0 4]]\n",
            "./results/fig/\n"
          ],
          "name": "stdout"
        },
        {
          "output_type": "display_data",
          "data": {
            "image/png": "[encoded data removed]",
            "text/plain": [
              "<matplotlib.figure.Figure at 0x7fd18d35f690>"
            ]
          },
          "metadata": {
            "tags": []
          }
        }
      ]
    },
    {
      "cell_type": "code",
      "metadata": {
        "id": "S1l4INy2EHx3",
        "colab": {
          "base_uri": "https://localhost:8080/",
          "height": 2669
        },
        "outputId": "f73bc1d7-42b0-4917-b3b0-9bb5c886505c"
      },
      "source": [
        "%cd /content/auth_id/results/\n",
        "!cat lstm_hs_c50_0319.txt"
      ],
      "execution_count": null,
      "outputs": [
        {
          "output_type": "stream",
          "text": [
            "/content/auth_id/results\n",
            "\n",
            "###\n",
            "training_model: /usr/local/lib/python2.7/dist-packages/ipykernel_launcher.py\n",
            "starting_time: 2019-01-02 13:39:33.659288\n",
            "\n",
            "parameters:\n",
            "\tcell_type: gru\n",
            "\tembed_size: 50\n",
            "\thidden_size: 200\n",
            "\tlearning_rate: 0.0040\n",
            "\tregularization: 0.00001\n",
            "\tdropout: 0.80000\n",
            "\tn_epochs: 30.00000\n",
            "\tbatch_size: 16\n",
            "\n",
            "training history:\n",
            "epoch \t\t loss \t\t train_accu \t\t test_accu\n",
            "0 \t\t 3.07070 \t\t 0.32500 \t\t 0.28070\n",
            "1 \t\t 1.65292 \t\t 0.59583 \t\t 0.50000\n",
            "2 \t\t 0.99593 \t\t 0.72917 \t\t 0.53509\n",
            "3 \t\t 0.62725 \t\t 0.77500 \t\t 0.56140\n",
            "4 \t\t 0.34424 \t\t 0.85833 \t\t 0.62281\n",
            "5 \t\t 0.25991 \t\t 0.92917 \t\t 0.67105\n",
            "6 \t\t 0.13242 \t\t 0.97083 \t\t 0.69737\n",
            "7 \t\t 0.06979 \t\t 0.97083 \t\t 0.67544\n",
            "8 \t\t 0.05787 \t\t 0.99583 \t\t 0.67982\n",
            "9 \t\t 0.04929 \t\t 0.96250 \t\t 0.67544\n",
            "10 \t\t 0.04644 \t\t 0.98333 \t\t 0.66228\n",
            "11 \t\t 0.05906 \t\t 1.00000 \t\t 0.71491\n",
            "12 \t\t 0.05909 \t\t 0.99583 \t\t 0.66667\n",
            "13 \t\t 0.05987 \t\t 0.98750 \t\t 0.68860\n",
            "14 \t\t 0.03317 \t\t 1.00000 \t\t 0.71930\n",
            "15 \t\t 0.02503 \t\t 1.00000 \t\t 0.71491\n",
            "16 \t\t 0.02373 \t\t 1.00000 \t\t 0.70614\n",
            "17 \t\t 0.02300 \t\t 1.00000 \t\t 0.70175\n",
            "18 \t\t 0.02231 \t\t 1.00000 \t\t 0.70175\n",
            "19 \t\t 0.02168 \t\t 1.00000 \t\t 0.69737\n",
            "20 \t\t 0.02105 \t\t 1.00000 \t\t 0.70175\n",
            "21 \t\t 0.02044 \t\t 1.00000 \t\t 0.70175\n",
            "22 \t\t 0.01980 \t\t 1.00000 \t\t 0.70614\n",
            "23 \t\t 0.01919 \t\t 1.00000 \t\t 0.70614\n",
            "24 \t\t 0.01856 \t\t 1.00000 \t\t 0.70614\n",
            "25 \t\t 0.01794 \t\t 1.00000 \t\t 0.70175\n",
            "26 \t\t 0.01732 \t\t 1.00000 \t\t 0.70175\n",
            "27 \t\t 0.01669 \t\t 1.00000 \t\t 0.70614\n",
            "28 \t\t 0.01606 \t\t 1.00000 \t\t 0.71930\n",
            "29 \t\t 0.01545 \t\t 1.00000 \t\t 0.71491\n",
            "END\n",
            "\n",
            "###\n",
            "training_model: /usr/local/lib/python2.7/dist-packages/ipykernel_launcher.py\n",
            "starting_time: 2019-01-02 13:56:07.919277\n",
            "\n",
            "parameters:\n",
            "\tcell_type: gru\n",
            "\tembed_size: 50\n",
            "\thidden_size: 250\n",
            "\tlearning_rate: 0.0040\n",
            "\tregularization: 0.00001\n",
            "\tdropout: 0.80000\n",
            "\tn_epochs: 30.00000\n",
            "\tbatch_size: 16\n",
            "\n",
            "training history:\n",
            "epoch \t\t loss \t\t train_accu \t\t test_accu\n",
            "0 \t\t 3.01146 \t\t 0.31250 \t\t 0.30263\n",
            "1 \t\t 1.65499 \t\t 0.62083 \t\t 0.51316\n",
            "2 \t\t 0.98047 \t\t 0.74583 \t\t 0.58333\n",
            "3 \t\t 0.57494 \t\t 0.84167 \t\t 0.56579\n",
            "4 \t\t 0.33846 \t\t 0.89583 \t\t 0.63596\n",
            "5 \t\t 0.19805 \t\t 0.94583 \t\t 0.65351\n",
            "6 \t\t 0.12702 \t\t 0.95833 \t\t 0.64912\n",
            "7 \t\t 0.09498 \t\t 0.96250 \t\t 0.69737\n",
            "8 \t\t 0.05375 \t\t 0.98333 \t\t 0.70175\n",
            "9 \t\t 0.05396 \t\t 0.96250 \t\t 0.66228\n",
            "10 \t\t 0.05602 \t\t 0.99167 \t\t 0.71491\n",
            "11 \t\t 0.04118 \t\t 1.00000 \t\t 0.69298\n",
            "12 \t\t 0.03025 \t\t 1.00000 \t\t 0.70614\n",
            "13 \t\t 0.02686 \t\t 1.00000 \t\t 0.71491\n",
            "14 \t\t 0.02579 \t\t 1.00000 \t\t 0.71930\n",
            "15 \t\t 0.02489 \t\t 1.00000 \t\t 0.71491\n",
            "16 \t\t 0.02404 \t\t 1.00000 \t\t 0.71491\n",
            "17 \t\t 0.02323 \t\t 1.00000 \t\t 0.71053\n",
            "18 \t\t 0.02241 \t\t 1.00000 \t\t 0.71491\n",
            "19 \t\t 0.02159 \t\t 1.00000 \t\t 0.71491\n",
            "20 \t\t 0.02078 \t\t 1.00000 \t\t 0.71053\n",
            "21 \t\t 0.01998 \t\t 1.00000 \t\t 0.71053\n",
            "22 \t\t 0.01916 \t\t 1.00000 \t\t 0.71491\n",
            "23 \t\t 0.01837 \t\t 1.00000 \t\t 0.71491\n",
            "24 \t\t 0.01756 \t\t 1.00000 \t\t 0.71491\n",
            "25 \t\t 0.01679 \t\t 1.00000 \t\t 0.71930\n",
            "26 \t\t 0.01603 \t\t 1.00000 \t\t 0.71491\n",
            "27 \t\t 0.01528 \t\t 1.00000 \t\t 0.71491\n",
            "28 \t\t 0.01456 \t\t 1.00000 \t\t 0.71491\n",
            "29 \t\t 0.01385 \t\t 1.00000 \t\t 0.72368\n",
            "END\n",
            "\n",
            "###\n",
            "training_model: /usr/local/lib/python2.7/dist-packages/ipykernel_launcher.py\n",
            "starting_time: 2019-01-02 14:41:09.919369\n",
            "\n",
            "parameters:\n",
            "\tcell_type: gru\n",
            "\tembed_size: 50\n",
            "\thidden_size: 300\n",
            "\tlearning_rate: 0.0040\n",
            "\tregularization: 0.00001\n",
            "\tdropout: 0.80000\n",
            "\tn_epochs: 30.00000\n",
            "\tbatch_size: 16\n",
            "\n",
            "training history:\n",
            "epoch \t\t loss \t\t train_accu \t\t test_accu\n",
            "0 \t\t 2.99281 \t\t 0.37083 \t\t 0.26316\n",
            "1 \t\t 1.61544 \t\t 0.59583 \t\t 0.54825\n",
            "2 \t\t 0.94744 \t\t 0.72083 \t\t 0.54825\n",
            "3 \t\t 0.56656 \t\t 0.78333 \t\t 0.57895\n",
            "4 \t\t 0.32071 \t\t 0.84167 \t\t 0.57018\n",
            "5 \t\t 0.21114 \t\t 0.90000 \t\t 0.67544\n",
            "6 \t\t 0.12420 \t\t 0.94167 \t\t 0.64912\n",
            "7 \t\t 0.11098 \t\t 0.98750 \t\t 0.66228\n",
            "8 \t\t 0.06408 \t\t 0.99583 \t\t 0.69737\n",
            "9 \t\t 0.05507 \t\t 0.99583 \t\t 0.65789\n",
            "10 \t\t 0.04309 \t\t 1.00000 \t\t 0.67544\n",
            "11 \t\t 0.03455 \t\t 1.00000 \t\t 0.69298\n",
            "12 \t\t 0.03098 \t\t 1.00000 \t\t 0.71053\n",
            "13 \t\t 0.02914 \t\t 1.00000 \t\t 0.71053\n",
            "14 \t\t 0.02761 \t\t 1.00000 \t\t 0.71930\n",
            "15 \t\t 0.02644 \t\t 1.00000 \t\t 0.71930\n",
            "16 \t\t 0.02534 \t\t 1.00000 \t\t 0.72368\n",
            "17 \t\t 0.02423 \t\t 1.00000 \t\t 0.71053\n",
            "18 \t\t 0.02316 \t\t 1.00000 \t\t 0.71053\n",
            "19 \t\t 0.02207 \t\t 1.00000 \t\t 0.71053\n",
            "20 \t\t 0.02103 \t\t 1.00000 \t\t 0.71053\n",
            "21 \t\t 0.01999 \t\t 1.00000 \t\t 0.71491\n",
            "22 \t\t 0.01898 \t\t 1.00000 \t\t 0.71491\n",
            "23 \t\t 0.01800 \t\t 1.00000 \t\t 0.70614\n",
            "24 \t\t 0.01705 \t\t 1.00000 \t\t 0.70175\n",
            "25 \t\t 0.01613 \t\t 1.00000 \t\t 0.70614\n",
            "26 \t\t 0.01526 \t\t 1.00000 \t\t 0.71053\n",
            "27 \t\t 0.01442 \t\t 1.00000 \t\t 0.71053\n",
            "28 \t\t 0.01361 \t\t 1.00000 \t\t 0.70614\n",
            "29 \t\t 0.01284 \t\t 1.00000 \t\t 0.69737\n",
            "END\n",
            "\n"
          ],
          "name": "stdout"
        }
      ]
    },
    {
      "cell_type": "code",
      "metadata": {
        "id": "Y33X_RKfgIID",
        "colab": {
          "base_uri": "https://localhost:8080/",
          "height": 1788
        },
        "outputId": "a1ce14ec-ee4b-47a4-d620-8568e24f7f89"
      },
      "source": [
        "%cd /content/auth_id/\n",
        "\n",
        "#data analysis.py\n",
        "\n",
        "import utils.parse_history as ph\n",
        "import numpy as np\n",
        "import matplotlib\n",
        "import os\n",
        "matplotlib.use('Agg')\n",
        "import matplotlib.pyplot as plt\n",
        "from cycler import cycler\n",
        "\n",
        "def get_data_epoch_loss(one_th):\n",
        "    return [one_th.epoch, one_th.loss]\n",
        "\n",
        "def get_data_epoch_train(one_th):\n",
        "    return [one_th.epoch, one_th.train_accu]\n",
        "\n",
        "def get_data_epoch_test(one_th):\n",
        "    return [one_th.epoch, one_th.test_accu]\n",
        "\n",
        "def get_final_train_accu(one_th):\n",
        "    return np.amax(one_th.train_accu)\n",
        "\n",
        "def get_final_test_accu(one_th):\n",
        "    return np.amax(one_th.test_accu)\n",
        "\n",
        "\n",
        "def analysis():\n",
        "    dataset='gutenberg'\n",
        "    parameter='hs'\n",
        "    date='0318'\n",
        "    para_name='hidden_size'\n",
        "    training_history_txt_filename='/content/auth_id/results/lstm_hs_c50_0319.txt'\n",
        "    output_path='/content/auth_id/results/'\n",
        "    if not os.path.exists(output_path):\n",
        "        os.makedirs(output_path)\n",
        "    f=open(training_history_txt_filename,'r')\n",
        "    training_history_list=ph.parse_file(f)\n",
        "    f.close()\n",
        "\n",
        "    num_models=len(training_history_list)\n",
        "\n",
        "    # get the learning_rate and test accuracies\n",
        "    epoch=training_history_list[0].epoch\n",
        "\n",
        "    paras=[]\n",
        "    losses=[]\n",
        "    train_accus=[]\n",
        "    test_accus=[]\n",
        "    for i in range(num_models):\n",
        "        one_th=training_history_list[i]\n",
        "        \"\"\"\n",
        "        choose parameter here\n",
        "        \"\"\"\n",
        "        paras.append(one_th.hidden_size)\n",
        "        losses.append(one_th.loss)\n",
        "        train_accus.append(one_th.train_accu)\n",
        "        test_accus.append(one_th.test_accu)\n",
        "\n",
        "\n",
        "#     fig1=plt.figure(1)\n",
        "#     plt.xlabel('epoch')\n",
        "#     plt.ylabel('loss')\n",
        "#     handles1=[]\n",
        "\n",
        "    fig2=plt.figure(2)\n",
        "    plt.xlabel('epoch',fontsize=15, fontweight='bold')\n",
        "    plt.ylabel('train accuracy',fontsize=15, fontweight='bold')\n",
        "    handles2=[]\n",
        "\n",
        "    fig3=plt.figure(3)\n",
        "    plt.xlabel('epoch',fontsize=15, fontweight='bold')\n",
        "    plt.ylabel('test accuracy',fontsize=15, fontweight='bold')\n",
        "    handles3=[]\n",
        "    \n",
        "    for i in range(num_models):\n",
        "#         plt.figure(1)\n",
        "#         line1, =plt.plot(epoch,losses[i],label=para_name+'='+str(paras[i]))\n",
        "#         handles1.append(line1)\n",
        "\n",
        "        linestyle_cycler = cycler('linestyle',['-','--',':','-.'])\n",
        "        plt.rc('axes', prop_cycle=linestyle_cycler)\n",
        "\n",
        "        plt.figure(2)\n",
        "        line2, =plt.plot(epoch,train_accus[i],label=para_name+'='+str(paras[i]))\n",
        "        handles2.append(line2)\n",
        "\n",
        "        plt.figure(3)\n",
        "        line3, =plt.plot(epoch,test_accus[i],label=para_name+'='+str(paras[i]))\n",
        "        handles3.append(line3)\n",
        "\n",
        "#     plt.figure(1)\n",
        "#     plt.legend(handles=handles1,loc='upper right')\n",
        "    plt.figure(2)\n",
        "    plt.legend(handles=handles2,loc='lower right')\n",
        "    plt.figure(3)\n",
        "    plt.legend(handles=handles3,loc='lower right')\n",
        "\n",
        "\n",
        "#     fig1.savefig(output_path+'/epoch_loss.png')\n",
        "    fig2.savefig(output_path+'/epoch_train_accu.png')\n",
        "    fig3.savefig(output_path+'/epoch_test_accu.png')\n",
        "\n",
        "    fig4=plt.figure(4)\n",
        "    plt.figure(4)\n",
        "\n",
        "    final_train_accus=[]\n",
        "    final_test_accus=[]\n",
        "    for i in range(num_models):\n",
        "        one_th=training_history_list[i]\n",
        "        final_train_accus.append(get_final_train_accu(one_th))\n",
        "        final_test_accus.append(get_final_test_accu(one_th))\n",
        "\n",
        "    line_train, =plt.plot(paras,final_train_accus,label='train')\n",
        "    line_test, =plt.plot(paras,final_test_accus,label='test')\n",
        "    plt.xlabel(para_name,fontsize=15, fontweight='bold')\n",
        "    plt.ylabel('accuracy',fontsize=15, fontweight='bold')\n",
        "    plt.grid(True)\n",
        "    plt.legend(handles=[line_train,line_test])\n",
        "    fig4.savefig(output_path+'/parameter.png')\n",
        "\n",
        "def main():\n",
        "    analysis()\n",
        "\n",
        "if __name__ == '__main__':\n",
        "    main()"
      ],
      "execution_count": null,
      "outputs": [
        {
          "output_type": "stream",
          "text": [
            "/content/auth_id\n",
            "['/usr/local/lib/python2.7/dist-packages/ipykernel_launcher.py', '2019-01-02 13:39:33.659288', 'gru', 50, 200, 0.004, 1e-05, 16]\n",
            "['/usr/local/lib/python2.7/dist-packages/ipykernel_launcher.py', '2019-01-02 13:56:07.919277', 'gru', 50, 250, 0.004, 1e-05, 16]\n",
            "['/usr/local/lib/python2.7/dist-packages/ipykernel_launcher.py', '2019-01-02 14:41:09.919369', 'gru', 50, 300, 0.004, 1e-05, 16]\n"
          ],
          "name": "stdout"
        },
        {
          "output_type": "stream",
          "text": [
            "/usr/local/lib/python2.7/dist-packages/ipykernel_launcher.py:9: UserWarning: \n",
            "This call to matplotlib.use() has no effect because the backend has already\n",
            "been chosen; matplotlib.use() must be called *before* pylab, matplotlib.pyplot,\n",
            "or matplotlib.backends is imported for the first time.\n",
            "\n",
            "The backend was *originally* set to 'module://ipykernel.pylab.backend_inline' by the following code:\n",
            "  File \"/usr/lib/python2.7/runpy.py\", line 174, in _run_module_as_main\n",
            "    \"__main__\", fname, loader, pkg_name)\n",
            "  File \"/usr/lib/python2.7/runpy.py\", line 72, in _run_code\n",
            "    exec code in run_globals\n",
            "  File \"/usr/local/lib/python2.7/dist-packages/ipykernel_launcher.py\", line 16, in <module>\n",
            "    app.launch_new_instance()\n",
            "  File \"/usr/local/lib/python2.7/dist-packages/traitlets/config/application.py\", line 657, in launch_instance\n",
            "    app.initialize(argv)\n",
            "  File \"<decorator-gen-121>\", line 2, in initialize\n",
            "  File \"/usr/local/lib/python2.7/dist-packages/traitlets/config/application.py\", line 87, in catch_config_error\n",
            "    return method(app, *args, **kwargs)\n",
            "  File \"/usr/local/lib/python2.7/dist-packages/ipykernel/kernelapp.py\", line 462, in initialize\n",
            "    self.init_gui_pylab()\n",
            "  File \"/usr/local/lib/python2.7/dist-packages/ipykernel/kernelapp.py\", line 403, in init_gui_pylab\n",
            "    InteractiveShellApp.init_gui_pylab(self)\n",
            "  File \"/usr/local/lib/python2.7/dist-packages/IPython/core/shellapp.py\", line 213, in init_gui_pylab\n",
            "    r = enable(key)\n",
            "  File \"/usr/local/lib/python2.7/dist-packages/IPython/core/interactiveshell.py\", line 2950, in enable_matplotlib\n",
            "    pt.activate_matplotlib(backend)\n",
            "  File \"/usr/local/lib/python2.7/dist-packages/IPython/core/pylabtools.py\", line 309, in activate_matplotlib\n",
            "    matplotlib.pyplot.switch_backend(backend)\n",
            "  File \"/usr/local/lib/python2.7/dist-packages/matplotlib/pyplot.py\", line 232, in switch_backend\n",
            "    matplotlib.use(newbackend, warn=False, force=True)\n",
            "  File \"/usr/local/lib/python2.7/dist-packages/matplotlib/__init__.py\", line 1305, in use\n",
            "    reload(sys.modules['matplotlib.backends'])\n",
            "  File \"/usr/local/lib/python2.7/dist-packages/matplotlib/backends/__init__.py\", line 14, in <module>\n",
            "    line for line in traceback.format_stack()\n",
            "\n",
            "\n",
            "  if __name__ == '__main__':\n"
          ],
          "name": "stderr"
        },
        {
          "output_type": "display_data",
          "data": {
            "image/png": "[encoded data removed]",
            "text/plain": [
              "<matplotlib.figure.Figure at 0x7fd192458110>"
            ]
          },
          "metadata": {
            "tags": []
          }
        },
        {
          "output_type": "display_data",
          "data": {
            "image/png": "[encoded data removed]",
            "text/plain": [
              "<matplotlib.figure.Figure at 0x7fd195530b90>"
            ]
          },
          "metadata": {
            "tags": []
          }
        },
        {
          "output_type": "display_data",
          "data": {
            "image/png": "[encoded data removed]",
            "text/plain": [
              "<matplotlib.figure.Figure at 0x7fd187768850>"
            ]
          },
          "metadata": {
            "tags": []
          }
        }
      ]
    },
    {
      "cell_type": "code",
      "metadata": {
        "id": "Hl33snrqGY3E",
        "colab": {
          "base_uri": "https://localhost:8080/",
          "height": 1202
        },
        "outputId": "969ed34b-ade0-4336-fd4b-ef45a91941a7"
      },
      "source": [
        "#RNN_sent_model.py  for gru              ARTICLE LEVEL CASE\n",
        "\n",
        "\n",
        "#!/usr/bin/env python3\n",
        "# -*- coding: utf-8 -*-\n",
        "\n",
        "\n",
        "from __future__ import absolute_import\n",
        "from __future__ import division\n",
        "\n",
        "import argparse\n",
        "import logging\n",
        "import sys\n",
        "import time\n",
        "import os\n",
        "import pickle\n",
        "\n",
        "import utils.file2dict as fdt\n",
        "import utils.read_minibatch as rmb\n",
        "import utils.data_util as data_util\n",
        "import utils.confusion_matrix as cm\n",
        "import utils.data_util as du\n",
        "\n",
        "from datetime import datetime\n",
        "\n",
        "import tensorflow as tf\n",
        "import numpy as np\n",
        "\n",
        "from AttributionModel import AttributionModel\n",
        "from proj_rnn_cell import RNNCell\n",
        "from proj_gru_cell import GRUCell\n",
        "\n",
        "logger = logging.getLogger(\"RNN_Author_Attribution\")\n",
        "logger.setLevel(logging.DEBUG)\n",
        "logging.basicConfig(format='%(message)s', level=logging.DEBUG)\n",
        "\n",
        "tf.reset_default_graph()  #used so that variables gets reinitialized every time\n",
        "\n",
        "class Config:\n",
        "    cell_type=\"gru\" # either rnn, gru or lstm\n",
        "\n",
        "    window_size = 0\n",
        "\n",
        "    max_length = 24 # longest length of a sentence we will process\n",
        "    n_classes = 50 # in total, we have 50 classes\n",
        "    dropout = 0.8\n",
        "\n",
        "    embed_size = 50\n",
        "\n",
        "    hidden_size = 300\n",
        "    batch_size = 16\n",
        "\n",
        "    n_epochs = 3\n",
        "    regularization = 0.00001\n",
        "\n",
        "    max_grad_norm = 10.0 # max gradients norm for clipping\n",
        "    lr = 0.004 # learning rate\n",
        "    \n",
        "    def __init__(self, args):\n",
        "\n",
        "        #self.cell = args.cell\n",
        "\n",
        "        self.cell = GRUCell(Config.embed_size, Config.hidden_size)\n",
        "        if \"output_path\" in args:\n",
        "            # Where to save things.\n",
        "            self.output_path = args.output_path\n",
        "        else:\n",
        "            self.output_path = \"results/{}/{:%Y%m%d_%H%M%S}/\".format(\"RNN\", datetime.now())\n",
        "\n",
        "        self.model_output = self.output_path + \"model.weights\"\n",
        "        self.eval_output = self.output_path + \"results.txt\"\n",
        "\n",
        "        #self.conll_output = self.output_path + \"{}_predictions.conll\".format(self.cell)\n",
        "        self.log_output = self.output_path + \"log\"\n",
        "\n",
        "class RNNModel(AttributionModel):\n",
        "    def add_placeholders(self):\n",
        "        self.input_placeholder = tf.placeholder(tf.float32, [None, Config.max_length, Config.embed_size])\n",
        "        self.labels_placeholder = tf.placeholder(tf.int32, [None, Config.n_classes])\n",
        "        self.mask_placeholder = tf.placeholder(tf.float32, [None, Config.max_length])\n",
        "        self.dropout_placeholder = tf.placeholder(tf.float32)\n",
        "      \n",
        "    def create_feed_dict(self, inputs_batch, mask_batch, labels_batch=None, dropout=1):\n",
        "        feed_dict = {}\n",
        "        if labels_batch is not None:\n",
        "            feed_dict[self.labels_placeholder] = labels_batch\n",
        "        if inputs_batch is not None:\n",
        "            feed_dict[self.input_placeholder] = inputs_batch\n",
        "        if dropout is not None:\n",
        "            feed_dict[self.dropout_placeholder] = dropout\n",
        "        if mask_batch is not None:\n",
        "            feed_dict[self.mask_placeholder] = mask_batch\n",
        "\n",
        "        return feed_dict\n",
        "      \n",
        "    def add_embedding(self):\n",
        "       \n",
        "        embeddingTensor = tf.Variable(self.pretrained_embeddings,tf.float32)\n",
        "        embeddings = tf.nn.embedding_lookup(embeddingTensor, self.input_placeholder)\n",
        "\n",
        "        return embeddings\n",
        "      \n",
        "    def add_prediction_op(self):\n",
        "        #x = self.add_embedding()\n",
        "        x = self.input_placeholder\n",
        "        if Config.cell_type==\"lstm\":\n",
        "            print \"lstm\"\n",
        "            cell_state = tf.zeros([tf.shape(x)[0], Config.hidden_size])\n",
        "            hidden_state = tf.zeros([tf.shape(x)[0], Config.hidden_size])\n",
        "            init_state = tf.nn.rnn_cell.LSTMStateTuple(cell_state, hidden_state)\n",
        "            cell = tf.nn.rnn_cell.BasicLSTMCell(Config.hidden_size, state_is_tuple=True)\n",
        "            inputs_series=tf.split(1,Config.max_length,x)\n",
        "            outputs, current_state = tf.nn.rnn(cell, inputs_series, init_state)\n",
        "\n",
        "\n",
        "            self.U = tf.get_variable('U',\n",
        "                                  [Config.hidden_size, Config.n_classes],\n",
        "                                  initializer = tf.contrib.layers.xavier_initializer())\n",
        "            self.b2 = tf.get_variable('b2',\n",
        "                                  [Config.n_classes, ],\n",
        "                                  initializer = tf.contrib.layers.xavier_initializer())\n",
        "            h = tf.zeros([tf.shape(x)[0], Config.hidden_size])\n",
        "\n",
        "            preds=[tf.matmul(o, self.U) + self.b2 for o in outputs]\n",
        "            preds=tf.stack(preds)\n",
        "            preds=tf.reshape(preds,[-1,Config.max_length,Config.n_classes])\n",
        "            return preds\n",
        "\n",
        "\n",
        "        else:\n",
        "            dropout_rate = self.dropout_placeholder\n",
        "\n",
        "            preds = [] # Predicted output at each timestep should go here!\n",
        "\n",
        "            if Config.cell_type==\"rnn\":\n",
        "                cell = RNNCell(Config.embed_size, Config.hidden_size)\n",
        "            elif Config.cell_type==\"gru\":\n",
        "                cell = GRUCell(Config.embed_size, Config.hidden_size)\n",
        "            else:\n",
        "                assert False, \"Cell type undefined\"\n",
        "          \n",
        "            self.U = tf.get_variable('U',\n",
        "                                  [Config.hidden_size, Config.n_classes],\n",
        "                                  initializer = tf.contrib.layers.xavier_initializer())\n",
        "            self.b2 = tf.get_variable('b2',\n",
        "                                  [Config.n_classes, ],\n",
        "                                  initializer = tf.contrib.layers.xavier_initializer())\n",
        "            h = tf.zeros([tf.shape(x)[0], Config.hidden_size])\n",
        "\n",
        "            with tf.variable_scope(\"RNN\"):\n",
        "\n",
        "                for time_step in range(config.max_length):\n",
        "                    if time_step >= 1:\n",
        "                        tf.get_variable_scope().reuse_variables()\n",
        "                    o, h = cell(x[:,time_step,:], h)\n",
        "\n",
        "                    o_drop = tf.nn.dropout(o, dropout_rate)\n",
        "                    preds.append(tf.matmul(o_drop, self.U) + self.b2)\n",
        "            preds=tf.stack(preds)\n",
        "            preds=tf.reshape(preds,[-1,Config.max_length,Config.n_classes])\n",
        "            return preds\n",
        "          \n",
        "    def add_loss_op(self, preds):\n",
        "        \n",
        "        self.pred_mask=tf.reshape(self.mask_placeholder,[-1,Config.max_length,1])\n",
        "        self.pred_mask=tf.tile(self.pred_mask,[1,1,Config.n_classes])\n",
        "\n",
        "        self.pred_masked=tf.multiply(preds,self.pred_mask)\n",
        "        self.pred_masked=tf.reduce_sum(self.pred_masked,axis=1)\n",
        "\n",
        "        loss = tf.nn.softmax_cross_entropy_with_logits(logits=self.pred_masked, labels=self.labels_placeholder)\n",
        "\n",
        "        loss = tf.reduce_mean(loss) + config.regularization * ( tf.nn.l2_loss(self.U) )\n",
        "\n",
        "        with tf.variable_scope(\"RNN/cell\", reuse= True):\n",
        "            # add regularization\n",
        "\n",
        "            if Config.cell_type=='gru':\n",
        "                loss += config.regularization * (tf.nn.l2_loss(tf.get_variable(\"W_r\"))\n",
        "                                             + tf.nn.l2_loss(tf.get_variable(\"U_r\"))\n",
        "                                             + tf.nn.l2_loss(tf.get_variable(\"W_z\"))\n",
        "                                             + tf.nn.l2_loss(tf.get_variable(\"U_z\"))\n",
        "                                             + tf.nn.l2_loss(tf.get_variable(\"W_o\"))\n",
        "                                             + tf.nn.l2_loss(tf.get_variable(\"U_o\")))\n",
        "        return loss\n",
        "          \n",
        "    def add_training_op(self, loss):\n",
        "        train_op = tf.train.AdamOptimizer(Config.lr).minimize(loss)\n",
        "        return train_op\n",
        "\n",
        "    def train_on_batch(self, sess, inputs_batch, labels_batch, mask_batch):\n",
        "\n",
        "        feed = self.create_feed_dict(inputs_batch, labels_batch=labels_batch, mask_batch=mask_batch,\n",
        "                                     dropout=Config.dropout)\n",
        "        _, loss, pred, pred_mask = sess.run([self.train_op, self.loss, self.pred, self.pred_mask], feed_dict=feed)\n",
        "\n",
        "        return loss\n",
        "\n",
        "    def predict_on_batch(self, sess, inputs_batch, mask_batch):\n",
        "        \n",
        "        feed = self.create_feed_dict(inputs_batch,mask_batch)\n",
        "        predictions = sess.run(tf.nn.softmax(self.pred), feed_dict=feed)\n",
        "        mask2=np.stack([mask_batch for i in range(Config.n_classes)] ,2)\n",
        "        pred2=np.sum(np.multiply(predictions,mask2),1)\n",
        "        return pred2\n",
        "\n",
        "\n",
        "    def record_history_init(self,f):\n",
        "        f.write(\"###\\n\")\n",
        "        f.write(\"training_model: \"+sys.argv[0]+\"\\n\")\n",
        "        f.write(\"starting_time: \"+str(datetime.now())+\"\\n\")\n",
        "        f.write(\"\\n\")\n",
        "        f.write(\"parameters:\\n\")\n",
        "        f.write(\"\\tcell_type: \"+Config.cell_type+\"\\n\")\n",
        "        f.write(\"\\tembed_size: {}\\n\".format(Config.embed_size))\n",
        "        f.write(\"\\thidden_size: {}\\n\".format(Config.hidden_size))\n",
        "        f.write(\"\\tlearning_rate: {0:.4f}\\n\".format(Config.lr))\n",
        "        f.write(\"\\tregularization: {0:.5f}\\n\".format(Config.regularization))\n",
        "        f.write(\"\\tdropout: {0:.5f}\\n\".format(Config.dropout))\n",
        "        f.write(\"\\tn_epochs: {0:.5f}\\n\".format(Config.n_epochs))\n",
        "        f.write(\"\\tbatch_size: {}\\n\".format(Config.batch_size))\n",
        "        f.write(\"\\n\")\n",
        "        f.write(\"training history:\\n\")\n",
        "        f.write(\"epoch \\t\\t loss \\t\\t train_accu \\t\\t test_accu\\n\")\n",
        "\n",
        "    def record_history_accu(self,f,n_epoch,average_train_loss,train_accu,test_accu):\n",
        "        f.write(\"{0:d} \\t\\t {1:.5f} \\t\\t {2:.5f} \\t\\t {3:.5f}\\n\".format(n_epoch,average_train_loss,train_accu,test_accu))\n",
        "\n",
        "    def record_history_finish(self,f):\n",
        "        f.write(\"END\\n\")\n",
        "        f.write(\"\\n\")\n",
        "        f.close()\n",
        "\n",
        "    def test_model(self, session, batch_list):\n",
        "        print \"Now, testing on the test set...\"\n",
        "        total = 0\n",
        "        accuCount = 0\n",
        "        for batch in batch_list:\n",
        "            batch_feat = np.array(batch[1], dtype = np.float32)\n",
        "            batch_mask = np.array(batch[2], dtype = np.float32)\n",
        "\n",
        "            pred = self.predict_on_batch(session, batch_feat, batch_mask)\n",
        "            accuCount += np.sum(np.argmax(pred,1) == batch[0])\n",
        "            total += len(batch[0])\n",
        "        accu = accuCount * 1.0 / total\n",
        "        logger.info( (\"Test accuracy %f\" %(accu)) )\n",
        "        return accu\n",
        "\n",
        "    def test_trainset_model(self, session, batch_list):\n",
        "        print \"Now, testing on the training set, notice this is only for debugging...\"\n",
        "        total = 0\n",
        "        accuCount = 0\n",
        "        for batch in batch_list:\n",
        "            batch_feat = np.array(batch[1], dtype = np.float32)\n",
        "            batch_mask = np.array(batch[2], dtype = np.float32)\n",
        "\n",
        "            pred = self.predict_on_batch(session, batch_feat, batch_mask)\n",
        "            accuCount += np.sum(np.argmax(pred,1) == batch[0])\n",
        "            total += len(batch[0])\n",
        "        accu = accuCount * 1.0 / total\n",
        "        logger.info( (\"Test accuracy on training set is: %f\" %(accu)) )\n",
        "        return accu\n",
        "      \n",
        "    def process_model_output(self):\n",
        "\n",
        "        pkl_file = open('/content/auth_id/data_sentence.pkl', 'rb') #changed filename from data_sentence_index_test to data_sentence to load train data\n",
        "        batch_list = pickle.load(pkl_file)\n",
        "        pkl_file.close()\n",
        "\n",
        "        test_size = int(len(batch_list) / 10)  #changed division by 10 to 1\n",
        "        training_batch = batch_list[0 : len(batch_list) - test_size]\n",
        "        print test_size, len(batch_list)\n",
        "        testing_batch = batch_list[len(batch_list) - test_size : len(batch_list)]\n",
        "\n",
        "        init = tf.global_variables_initializer()\n",
        "        saver = tf.train.Saver()\n",
        "        with tf.Session() as session:\n",
        "            session.run(init)\n",
        "            #load_path = \"results/RNN/20170318_221625/model.weights_10\"\n",
        "            saver.restore(session, \"./model_weights_glove\")\n",
        "\n",
        "            print \"Now, collecting the model outputs...\"\n",
        "            total = 0\n",
        "            accuCount = 0\n",
        "            pred_list = []\n",
        "            real_label_list = []\n",
        "            for batch in testing_batch:\n",
        "                  batch_feat = np.array(batch[1], dtype = np.float32)\n",
        "                  batch_mask = np.array(batch[2], dtype = np.float32)\n",
        "\n",
        "                  pred = self.predict_on_batch(session, batch_feat, batch_mask)\n",
        "                  accuCount += np.sum(np.argmax(pred,1) == batch[0])\n",
        "                  total += len(batch[0])\n",
        "                  \n",
        "            accu = accuCount * 1.0 / total\n",
        "            print( (\"Test accuracy %f\" %(accu)) )\n",
        "            \n",
        "            t_cm = cm.generate_cm(real_label_list,pred_list, Config.n_classes)    \n",
        "            x = t_cm.as_matrix().astype(np.uint8)\n",
        "            print x\n",
        "            du.visualize_cm(x, \"gutenberg_sentence\")\n",
        "            return accu        \n",
        "\n",
        "    def train_model(self):\n",
        "            level='word_level'\n",
        "            dataset='gutenberg'\n",
        "            date='0318'\n",
        "            training_history_txt_filename='/content/auth_id/results/training_history.txt'\n",
        "            training_history_file = open(training_history_txt_filename,'a+')\n",
        "            self.record_history_init(training_history_file)\n",
        "\n",
        "            if not os.path.exists(config.log_output):\n",
        "                os.makedirs(os.path.dirname(config.log_output))\n",
        "            handler = logging.FileHandler(config.log_output)\n",
        "            handler.setLevel(logging.DEBUG)\n",
        "            handler.setFormatter(logging.Formatter('%(message)s'))\n",
        "            logging.getLogger().addHandler(handler)\n",
        "\n",
        "            pkl_file = open('/content/auth_id/data_sentence.pkl', 'rb')\n",
        "\n",
        "            batch_list = pickle.load(pkl_file)\n",
        "            pkl_file.close()\n",
        "\n",
        "            test_size = int(len(batch_list) / 10)\n",
        "            training_batch = batch_list[0 : len(batch_list) - test_size]\n",
        "            print test_size, len(batch_list)\n",
        "            testing_train_batch = batch_list[test_size : 2 * test_size]\n",
        "            testing_batch = batch_list[len(batch_list) - test_size : len(batch_list)]\n",
        "\n",
        "            init = tf.global_variables_initializer()\n",
        "            saver = tf.train.Saver()\n",
        "            with tf.Session() as session:\n",
        "                session.run(init)\n",
        "                #load_path = \"results/RNN/20170310_1022/model.weights_20\"\n",
        "                #saver.restore(session, load_path)\n",
        "                for iterTime in range(Config.n_epochs):\n",
        "                    loss_list = []\n",
        "                    smallIter = 0\n",
        "\n",
        "                    for batch in training_batch:\n",
        "                        batch_label = rmb.convertOnehotLabel(batch[0],  Config.n_classes)\n",
        "                        batch_feat = np.array(batch[1], dtype = np.float32)\n",
        "                        batch_mask = np.array(batch[2], dtype = np.float32)\n",
        "                      #  print batch_mask\n",
        "                        loss = self.train_on_batch(session, batch_feat, batch_label, batch_mask)\n",
        "                        loss_list.append(loss)\n",
        "                        smallIter += 1\n",
        "\n",
        "                        if(smallIter % 20 == 0):\n",
        "\n",
        "                            #self.test_trainset_model(session, testing_train_batch)\n",
        "                            #self.test_model(session, testing_batch)\n",
        "                            logger.info((\"Intermediate epoch %d Total Iteration %d: loss : %f\" %(iterTime, smallIter, np.mean(np.mean(np.array(loss)))) ))\n",
        "\n",
        "                    average_train_loss=np.mean(np.array(loss_list))\n",
        "                    train_accu=self.test_trainset_model(session, testing_train_batch)\n",
        "                    test_accu=self.test_model(session, testing_batch)\n",
        "                    self.record_history_accu(training_history_file,iterTime,average_train_loss,train_accu,test_accu)\n",
        "                    if(iterTime % 10 == 0):\n",
        "                        logger.info((\"epoch %d : loss : %f\" %(iterTime, np.mean(np.mean(np.array(loss)))) ))\n",
        "                        saver.save(session, \"./model_weights_glove\") #changed path name to model_weights\n",
        "\n",
        "                        #if(smallIter % 200 == 0):\n",
        "                        print (\"Intermediate epoch %d : loss : %f\" %(iterTime, np.mean(np.mean(np.array(loss)))) )\n",
        "\n",
        "\n",
        "                print (\"epoch %d : loss : %f\" %(iterTime, np.mean(np.mean(np.array(loss)))) )\n",
        "                self.record_history_finish(training_history_file)\n",
        "\n",
        "\n",
        "    def __init__(self, config, pretrained_embeddings, report=None):\n",
        "\n",
        "        super(RNNModel, self).__init__(config)\n",
        "        self.pretrained_embeddings = pretrained_embeddings\n",
        "        self.raw_preds=None\n",
        "        self.input_placeholder = None\n",
        "        self.labels_placeholder = None\n",
        "        self.batch_mask_placeholder = None\n",
        "        self.mask_placeholder = None\n",
        "        self.dropout_placeholder = None\n",
        "\n",
        "        self.build()\n",
        "\n",
        "\n",
        "if __name__ == \"__main__\":\n",
        "    args = \"gru\"\n",
        "    config = Config(args)\n",
        "    glove_path = \"/content/glove.6B.50d.txt\"\n",
        "    glove_vector = data_util.load_embeddings(glove_path, config.embed_size)\n",
        "    model = RNNModel(config, glove_vector.astype(np.float32))\n",
        "\n",
        "    model.train_model()\n",
        "    model.process_model_output()"
      ],
      "execution_count": null,
      "outputs": [
        {
          "output_type": "stream",
          "text": [
            "15 157\n"
          ],
          "name": "stdout"
        },
        {
          "output_type": "stream",
          "text": [
            "INFO:Intermediate epoch 0 Total Iteration 20: loss : 4.344902\n",
            "INFO:Intermediate epoch 0 Total Iteration 40: loss : 4.026558\n",
            "INFO:Intermediate epoch 0 Total Iteration 60: loss : 3.938172\n",
            "INFO:Intermediate epoch 0 Total Iteration 80: loss : 3.827962\n",
            "INFO:Intermediate epoch 0 Total Iteration 100: loss : 3.971529\n",
            "INFO:Intermediate epoch 0 Total Iteration 120: loss : 3.876811\n",
            "INFO:Intermediate epoch 0 Total Iteration 140: loss : 4.090477\n"
          ],
          "name": "stderr"
        },
        {
          "output_type": "stream",
          "text": [
            "Now, testing on the training set, notice this is only for debugging...\n"
          ],
          "name": "stdout"
        },
        {
          "output_type": "stream",
          "text": [
            "INFO:Test accuracy on training set is: 0.041667\n"
          ],
          "name": "stderr"
        },
        {
          "output_type": "stream",
          "text": [
            "Now, testing on the test set...\n"
          ],
          "name": "stdout"
        },
        {
          "output_type": "stream",
          "text": [
            "INFO:Test accuracy 0.026316\n",
            "INFO:epoch 0 : loss : 3.942413\n"
          ],
          "name": "stderr"
        },
        {
          "output_type": "stream",
          "text": [
            "Intermediate epoch 0 : loss : 3.942413\n"
          ],
          "name": "stdout"
        },
        {
          "output_type": "stream",
          "text": [
            "INFO:Intermediate epoch 1 Total Iteration 20: loss : 4.031553\n",
            "INFO:Intermediate epoch 1 Total Iteration 40: loss : 3.926654\n",
            "INFO:Intermediate epoch 1 Total Iteration 60: loss : 3.922607\n",
            "INFO:Intermediate epoch 1 Total Iteration 80: loss : 3.812349\n",
            "INFO:Intermediate epoch 1 Total Iteration 100: loss : 3.932571\n",
            "INFO:Intermediate epoch 1 Total Iteration 120: loss : 3.863362\n",
            "INFO:Intermediate epoch 1 Total Iteration 140: loss : 4.042767\n"
          ],
          "name": "stderr"
        },
        {
          "output_type": "stream",
          "text": [
            "Now, testing on the training set, notice this is only for debugging...\n"
          ],
          "name": "stdout"
        },
        {
          "output_type": "stream",
          "text": [
            "INFO:Test accuracy on training set is: 0.045833\n"
          ],
          "name": "stderr"
        },
        {
          "output_type": "stream",
          "text": [
            "Now, testing on the test set...\n"
          ],
          "name": "stdout"
        },
        {
          "output_type": "stream",
          "text": [
            "INFO:Test accuracy 0.035088\n",
            "INFO:Intermediate epoch 2 Total Iteration 20: loss : 3.959415\n",
            "INFO:Intermediate epoch 2 Total Iteration 40: loss : 3.876372\n",
            "INFO:Intermediate epoch 2 Total Iteration 60: loss : 4.015905\n",
            "INFO:Intermediate epoch 2 Total Iteration 80: loss : 3.764166\n",
            "INFO:Intermediate epoch 2 Total Iteration 100: loss : 3.905041\n",
            "INFO:Intermediate epoch 2 Total Iteration 120: loss : 3.855807\n",
            "INFO:Intermediate epoch 2 Total Iteration 140: loss : 4.031605\n"
          ],
          "name": "stderr"
        },
        {
          "output_type": "stream",
          "text": [
            "Now, testing on the training set, notice this is only for debugging...\n"
          ],
          "name": "stdout"
        },
        {
          "output_type": "stream",
          "text": [
            "INFO:Test accuracy on training set is: 0.033333\n"
          ],
          "name": "stderr"
        },
        {
          "output_type": "stream",
          "text": [
            "Now, testing on the test set...\n"
          ],
          "name": "stdout"
        },
        {
          "output_type": "stream",
          "text": [
            "INFO:Test accuracy 0.026316\n"
          ],
          "name": "stderr"
        },
        {
          "output_type": "stream",
          "text": [
            "epoch 2 : loss : 3.884176\n",
            "15 157\n"
          ],
          "name": "stdout"
        },
        {
          "output_type": "stream",
          "text": [
            "INFO:Restoring parameters from ./model_weights_glove\n"
          ],
          "name": "stderr"
        },
        {
          "output_type": "stream",
          "text": [
            "Now, collecting the model outputs...\n",
            "Test accuracy 0.026316\n",
            "[[0 0 0 ... 0 0 0]\n",
            " [0 0 0 ... 0 0 0]\n",
            " [0 0 0 ... 0 0 0]\n",
            " ...\n",
            " [0 0 0 ... 0 0 0]\n",
            " [0 0 0 ... 0 0 0]\n",
            " [0 0 0 ... 0 0 0]]\n",
            "./results/fig/\n"
          ],
          "name": "stdout"
        },
        {
          "output_type": "display_data",
          "data": {
            "image/png": "[encoded data removed]",
            "text/plain": [
              "<matplotlib.figure.Figure at 0x7f307d641490>"
            ]
          },
          "metadata": {
            "tags": []
          }
        }
      ]
    },
    {
      "cell_type": "code",
      "metadata": {
        "id": "rSgq6fswxfle",
        "colab": {
          "base_uri": "https://localhost:8080/",
          "height": 3473
        },
        "outputId": "5523e139-6994-42a8-9055-3c471183224e"
      },
      "source": [
        "%cd /content/auth_id/results/\n",
        "!cat training_history.txt"
      ],
      "execution_count": null,
      "outputs": [
        {
          "output_type": "stream",
          "text": [
            "/content/auth_id/results\n",
            "###\n",
            "training_model: RNN_sent_model_embed.py\n",
            "starting_time: 2017-03-16 21:55:01.472013\n",
            "\n",
            "parameters:\n",
            "\tcell_type: gru\n",
            "\tembed_size: 50\n",
            "\thidden_size: 100\n",
            "\tlearning_rate: 0.0005\n",
            "\tregularization: 0.00000\n",
            "\tbatch_size: 16\n",
            "\n",
            "training history:\n",
            "epoch \t\t loss \t\t train_accu \t\t test_accu\n",
            "0 \t\t 3.31822 \t\t 0.27083 \t\t 0.25946\n",
            "1 \t\t 2.42042 \t\t 0.42742 \t\t 0.38716\n",
            "2 \t\t 1.84739 \t\t 0.53293 \t\t 0.48649\n",
            "3 \t\t 1.39370 \t\t 0.65121 \t\t 0.58041\n",
            "4 \t\t 1.03385 \t\t 0.72849 \t\t 0.64392\n",
            "5 \t\t 0.75409 \t\t 0.80847 \t\t 0.71014\n",
            "6 \t\t 0.54105 \t\t 0.86223 \t\t 0.72973\n",
            "7 \t\t 0.39351 \t\t 0.90793 \t\t 0.77905\n",
            "8 \t\t 0.27987 \t\t 0.93347 \t\t 0.79932\n",
            "9 \t\t 0.20876 \t\t 0.95833 \t\t 0.82027\n",
            "END\n",
            "\n",
            "###\n",
            "training model: siamese_network.py\n",
            "starting time: 2017-03-17 00:04:27.437097\n",
            "\n",
            "parameters:\n",
            "\tcell_type: gru\n",
            "\tembed_size: 50\n",
            "\thidden_size: 100\n",
            "\tlearning_rate: 0.0010\n",
            "\tregularization: 0.00000\n",
            "\tbatch_size: 16\n",
            "\n",
            "training history:\n",
            "epoch \t\t loss \t\t train_accu \t\t test_accu\n",
            "0 \t\t 6.35964 \t\t 0.24219 \t\t 0.23197\n",
            "1 \t\t 5.05598 \t\t 0.24279 \t\t 0.22837\n",
            "2 \t\t 4.66568 \t\t 0.24079 \t\t 0.22796\n",
            "###\n",
            "training model: siamese_network.py\n",
            "starting time: 2017-03-17 00:40:45.100162\n",
            "\n",
            "parameters:\n",
            "\tcell_type: gru\n",
            "\tembed_size: 50\n",
            "\thidden_size: 100\n",
            "\tlearning_rate: 0.0010\n",
            "\tregularization: 0.00000\n",
            "\tbatch_size: 16\n",
            "\n",
            "training history:\n",
            "epoch \t\t loss \t\t train_accu \t\t test_accu\n",
            "0 \t\t 2.60000 \t\t 0.92768 \t\t 0.93249\n",
            "1 \t\t 0.16800 \t\t 0.94832 \t\t 0.95633\n",
            "###\n",
            "training model: siamese_network.py\n",
            "starting time: 2017-03-18 05:39:38.159956\n",
            "\n",
            "parameters:\n",
            "\tcell_type: gru\n",
            "\tembed_size: 50\n",
            "\thidden_size: 100\n",
            "\tlearning_rate: 0.0010\n",
            "\tregularization: 0.00500\n",
            "\tbatch_size: 16\n",
            "\n",
            "training history:\n",
            "epoch \t\t loss \t\t train_accu \t\t test_accu\n",
            "0 \t\t 2.28918 \t\t 0.92288 \t\t 0.92468\n",
            "1 \t\t 0.75771 \t\t 0.94030 \t\t 0.93890\n",
            "2 \t\t 0.61900 \t\t 0.93490 \t\t 0.93950\n",
            "3 \t\t 0.53327 \t\t 0.96534 \t\t 0.96615\n",
            "4 \t\t 0.49153 \t\t 0.97496 \t\t 0.97576\n",
            "5 \t\t 0.46604 \t\t 0.98057 \t\t 0.98097\n",
            "6 \t\t 0.40643 \t\t 0.98598 \t\t 0.98838\n",
            "7 \t\t 0.40816 \t\t 0.99139 \t\t 0.99099\n",
            "8 \t\t 0.39715 \t\t 0.99239 \t\t 0.99139\n",
            "9 \t\t 0.36072 \t\t 0.99339 \t\t 0.99239\n",
            "10 \t\t 0.36206 \t\t 0.99419 \t\t 0.99439\n",
            "11 \t\t 0.35416 \t\t 0.99499 \t\t 0.99579\n",
            "12 \t\t 0.33678 \t\t 0.99399 \t\t 0.99419\n",
            "###\n",
            "training_model: RNN_sent_model.py\n",
            "starting_time: 2017-03-19 01:48:18.496763\n",
            "\n",
            "parameters:\n",
            "\tcell_type: gru\n",
            "\tembed_size: 50\n",
            "\thidden_size: 100\n",
            "\tlearning_rate: 0.0010\n",
            "\tregularization: 0.0000000\n",
            "\tbatch_size: 16\n",
            "\n",
            "training history:\n",
            "epoch \t\t loss \t\t train_accu \t\t test_accu\n",
            "###\n",
            "training_model: RNN_average_model.py\n",
            "starting_time: 2017-03-19 02:14:06.685723\n",
            "\n",
            "parameters:\n",
            "\tcell_type: gru\n",
            "\tembed_size: 50\n",
            "\thidden_size: 150\n",
            "\tlearning_rate: 0.0010\n",
            "\tregularization: 0.0000000\n",
            "\tbatch_size: 64\n",
            "\n",
            "training history:\n",
            "epoch \t\t loss \t\t train_accu \t\t test_accu\n",
            "0 \t\t 2.63045 \t\t 0.45877 \t\t 0.35880\n",
            "1 \t\t 1.54173 \t\t 0.61692 \t\t 0.42786\n",
            "2 \t\t 1.09828 \t\t 0.71829 \t\t 0.44877\n",
            "3 \t\t 0.78750 \t\t 0.80528 \t\t 0.45385\n",
            "4 \t\t 0.55673 \t\t 0.85826 \t\t 0.44942\n",
            "5 \t\t 0.38587 \t\t 0.89673 \t\t 0.44493\n",
            "6 \t\t 0.27420 \t\t 0.92765 \t\t 0.44132\n",
            "7 \t\t 0.19650 \t\t 0.94682 \t\t 0.43679\n",
            "8 \t\t 0.13688 \t\t 0.95949 \t\t 0.43603\n",
            "9 \t\t 0.10071 \t\t 0.96475 \t\t 0.42517\n",
            "###\n",
            "training_model: RNN_average_model.py\n",
            "starting_time: 2017-03-19 02:31:28.713025\n",
            "\n",
            "parameters:\n",
            "\tcell_type: gru\n",
            "\tembed_size: 50\n",
            "\thidden_size: 150\n",
            "\tlearning_rate: 0.0010\n",
            "\tregularization: 0.0000000\n",
            "\tbatch_size: 64\n",
            "\n",
            "training history:\n",
            "epoch \t\t loss \t\t train_accu \t\t test_accu\n",
            "0 \t\t 2.59948 \t\t 0.46264 \t\t 0.36507\n",
            "1 \t\t 1.51047 \t\t 0.61541 \t\t 0.42523\n",
            "2 \t\t 1.07480 \t\t 0.71580 \t\t 0.44243\n",
            "3 \t\t 0.77285 \t\t 0.79793 \t\t 0.44417\n",
            "4 \t\t 0.55095 \t\t 0.85478 \t\t 0.44233\n",
            "5 \t\t 0.39299 \t\t 0.90106 \t\t 0.44161\n",
            "6 \t\t 0.27617 \t\t 0.92732 \t\t 0.43981\n",
            "7 \t\t 0.19611 \t\t 0.94347 \t\t 0.43567\n",
            "8 \t\t 0.13905 \t\t 0.94525 \t\t 0.43249\n",
            "9 \t\t 0.10450 \t\t 0.95674 \t\t 0.42120\n",
            "END\n",
            "\n",
            "###\n",
            "training_model: /usr/local/lib/python2.7/dist-packages/ipykernel_launcher.py\n",
            "starting_time: 2018-12-18 15:19:10.106790\n",
            "\n",
            "parameters:\n",
            "\tcell_type: gru\n",
            "\tembed_size: 50\n",
            "\thidden_size: 300\n",
            "\tlearning_rate: 0.0040\n",
            "\tregularization: 0.00001\n",
            "\tdropout: 0.80000\n",
            "\tn_epochs: 30.00000\n",
            "\tbatch_size: 16\n",
            "\n",
            "training history:\n",
            "epoch \t\t loss \t\t train_accu \t\t test_accu\n",
            "0 \t\t 4.00243 \t\t 0.00833 \t\t 0.01754\n",
            "1 \t\t 3.93835 \t\t 0.01667 \t\t 0.03070\n",
            "2 \t\t 3.91902 \t\t 0.02083 \t\t 0.03070\n",
            "3 \t\t 3.89389 \t\t 0.02500 \t\t 0.03070\n",
            "4 \t\t 3.87379 \t\t 0.02500 \t\t 0.02632\n",
            "5 \t\t 3.85378 \t\t 0.05417 \t\t 0.02193\n",
            "6 \t\t 3.84058 \t\t 0.03333 \t\t 0.01754\n",
            "7 \t\t 3.85971 \t\t 0.05417 \t\t 0.01316\n",
            "8 \t\t 3.80204 \t\t 0.04583 \t\t 0.01754\n",
            "9 \t\t 3.81405 \t\t 0.04583 \t\t 0.02193\n",
            "10 \t\t 3.80699 \t\t 0.04167 \t\t 0.02193\n",
            "11 \t\t 4.05223 \t\t 0.02083 \t\t 0.03070\n",
            "12 \t\t 4.31854 \t\t 0.01667 \t\t 0.02632\n",
            "13 \t\t 4.22374 \t\t 0.02500 \t\t 0.02193\n",
            "14 \t\t 4.17811 \t\t 0.02500 \t\t 0.02193\n",
            "15 \t\t 4.21213 \t\t 0.04583 \t\t 0.01754\n",
            "16 \t\t 4.16534 \t\t 0.03333 \t\t 0.01316\n",
            "17 \t\t 4.12002 \t\t 0.03750 \t\t 0.03509\n",
            "18 \t\t 4.25126 \t\t 0.02917 \t\t 0.02193\n",
            "19 \t\t 4.26603 \t\t 0.02083 \t\t 0.01754\n",
            "20 \t\t 4.25278 \t\t 0.03333 \t\t 0.01316\n",
            "21 \t\t 4.16444 \t\t 0.02917 \t\t 0.02632\n",
            "22 \t\t 4.18512 \t\t 0.02500 \t\t 0.01754\n",
            "23 \t\t 4.30362 \t\t 0.02917 \t\t 0.02632\n",
            "24 \t\t 4.36463 \t\t 0.04583 \t\t 0.02193\n",
            "25 \t\t 4.39972 \t\t 0.02083 \t\t 0.02632\n",
            "26 \t\t 4.30825 \t\t 0.02083 \t\t 0.01754\n",
            "27 \t\t 4.37870 \t\t 0.02083 \t\t 0.02632\n",
            "28 \t\t 4.51667 \t\t 0.03750 \t\t 0.01754\n",
            "29 \t\t 4.34430 \t\t 0.03333 \t\t 0.01754\n",
            "END\n",
            "\n"
          ],
          "name": "stdout"
        }
      ]
    },
    {
      "cell_type": "markdown",
      "metadata": {
        "id": "LntZgOMGCsuw"
      },
      "source": [
        "SENTENCE LEVEL CASE START FROM HERE"
      ]
    },
    {
      "cell_type": "code",
      "metadata": {
        "id": "LXKaKJzhZ-iA",
        "colab": {
          "base_uri": "https://localhost:8080/",
          "height": 416
        },
        "outputId": "03a04ff1-5f66-4348-98a4-5a4fbd6e08a3"
      },
      "source": [
        "# RNN average model                             SENTENCE LEVEL CASE\n",
        "\n",
        "#!/usr/bin/env python3\n",
        "# -*- coding: utf-8 -*-\n",
        "\n",
        "\n",
        "from __future__ import absolute_import\n",
        "from __future__ import division\n",
        "\n",
        "import argparse\n",
        "import logging\n",
        "import sys\n",
        "import time\n",
        "import os\n",
        "import pickle\n",
        "\n",
        "import utils.file2dict as fdt\n",
        "import utils.read_minibatch as rmb\n",
        "import utils.data_util as data_util\n",
        "import utils.confusion_matrix as cm\n",
        "import utils.data_util as du\n",
        "\n",
        "from datetime import datetime\n",
        "\n",
        "import tensorflow as tf\n",
        "import numpy as np\n",
        "\n",
        "from AttributionModel import AttributionModel\n",
        "from proj_rnn_cell import RNNCell\n",
        "from proj_gru_cell import GRUCell\n",
        "\n",
        "logger = logging.getLogger(\"RNN_Author_Attribution\")\n",
        "logger.setLevel(logging.DEBUG)\n",
        "logging.basicConfig(format='%(message)s', level=logging.DEBUG)\n",
        "\n",
        "tf.reset_default_graph()  #used so that variables gets reinitialized every time\n",
        "\n",
        "class Config:\n",
        "    cell_type=\"gru\" # either rnn, gru or lstm\n",
        "\n",
        "    window_size = 0\n",
        "\n",
        "    max_length = 70 # longest length of a sentence we will process\n",
        "    n_classes = 50 # in total, we have 50 classes\n",
        "    dropout = 0.9\n",
        "\n",
        "    embed_size = 50\n",
        "\n",
        "    hidden_size = 300\n",
        "    batch_size = 64\n",
        "\n",
        "    n_epochs = 10\n",
        "    regularization = 0\n",
        "\n",
        "    max_grad_norm = 10.0 # max gradients norm for clipping\n",
        "    lr = 0.004 # learning rate\n",
        "\n",
        "    def __init__(self, args):\n",
        "\n",
        "        #self.cell = args.cell\n",
        "\n",
        "        self.cell = GRUCell(Config.embed_size, Config.hidden_size)\n",
        "        if \"output_path\" in args:\n",
        "            # Where to save things.\n",
        "            self.output_path = args.output_path\n",
        "        else:\n",
        "            self.output_path = \"results/{}/{:%Y%m%d_%H%M%S}/\".format(\"RNN\", datetime.now())\n",
        "\n",
        "        self.model_output = self.output_path + \"model.weights\"\n",
        "        self.eval_output = self.output_path + \"results.txt\"\n",
        "\n",
        "        #self.conll_output = self.output_path + \"{}_predictions.conll\".format(self.cell)\n",
        "        self.log_output = self.output_path + \"log\"\n",
        "\n",
        "class RNNModel(AttributionModel):\n",
        "    \n",
        "    def add_placeholders(self):\n",
        "        self.input_placeholder = tf.placeholder(tf.int32, [None, Config.max_length])\n",
        "        self.labels_placeholder = tf.placeholder(tf.int32, [None, Config.n_classes])\n",
        "        self.mask_placeholder = tf.placeholder(tf.float32, [None, Config.max_length])\n",
        "        self.dropout_placeholder = tf.placeholder(tf.float32)\n",
        "\n",
        "    def create_feed_dict(self, inputs_batch, mask_batch, labels_batch=None, dropout=1):\n",
        "\n",
        "        feed_dict = {}\n",
        "        if labels_batch is not None:\n",
        "            feed_dict[self.labels_placeholder] = labels_batch\n",
        "        if inputs_batch is not None:\n",
        "            feed_dict[self.input_placeholder] = inputs_batch\n",
        "        if dropout is not None:\n",
        "            feed_dict[self.dropout_placeholder] = dropout\n",
        "        if mask_batch is not None:\n",
        "            feed_dict[self.mask_placeholder] = mask_batch\n",
        "        return feed_dict\n",
        "\n",
        "    def add_embedding(self):     \n",
        "        embeddingTensor = tf.Variable(self.pretrained_embeddings,tf.float32)\n",
        "        embeddings = tf.nn.embedding_lookup(embeddingTensor, self.input_placeholder)\n",
        "        return embeddings\n",
        "\n",
        "    def add_prediction_op(self):\n",
        "      \n",
        "        x = self.add_embedding()\n",
        "\n",
        "        dropout_rate = self.dropout_placeholder\n",
        "        preds = [] # Predicted output at each timestep should go here!\n",
        "\n",
        "        if Config.cell_type==\"rnn\":\n",
        "            cell = RNNCell(Config.embed_size, Config.hidden_size)\n",
        "        elif Config.cell_type==\"gru\":\n",
        "            cell = GRUCell(Config.embed_size, Config.hidden_size)\n",
        "        else:\n",
        "            assert False, \"Cell type undefined\"\n",
        "\n",
        "        self.U = tf.get_variable('U',\n",
        "                              [Config.hidden_size, Config.n_classes],\n",
        "                              initializer = tf.contrib.layers.xavier_initializer())\n",
        "        self.b2 = tf.get_variable('b2',\n",
        "                              [Config.n_classes, ],\n",
        "                              initializer = tf.contrib.layers.xavier_initializer())\n",
        "        h = tf.zeros([tf.shape(x)[0], Config.hidden_size])\n",
        "\n",
        "        with tf.variable_scope(\"RNN\"):\n",
        "\n",
        "            for time_step in range(Config.max_length):\n",
        "                if time_step >= 1:\n",
        "                    tf.get_variable_scope().reuse_variables()\n",
        "                o, h = cell(x[:,time_step,:], h)\n",
        "\n",
        "                o_drop = tf.nn.dropout(o, dropout_rate)\n",
        "                preds.append(tf.matmul(o_drop, self.U) + self.b2)\n",
        "\n",
        "        self.raw_preds=tf.stack(preds)\n",
        "        preds=tf.reshape(tf.transpose(self.raw_preds, [1, 0, 2]),[-1,Config.max_length,Config.n_classes])\n",
        "        return preds\n",
        "\n",
        "    def add_loss_op(self, preds):\n",
        "\n",
        "        pred_mask=tf.reshape(self.mask_placeholder,[-1,Config.max_length,1])\n",
        "        pred_mask=tf.tile(pred_mask,[1,1,Config.n_classes])\n",
        "        pred_masked= preds * pred_mask\n",
        "        pred_masked=tf.reduce_sum(pred_masked,axis=1)\n",
        "        loss = tf.nn.softmax_cross_entropy_with_logits(logits=pred_masked, labels=self.labels_placeholder)\n",
        "\n",
        "        loss = tf.reduce_mean(loss) + config.regularization * ( tf.nn.l2_loss(self.U) )\n",
        "        with tf.variable_scope(\"RNN/cell\", reuse= True):\n",
        "            # add regularization\n",
        "\n",
        "            loss += config.regularization * (tf.nn.l2_loss(tf.get_variable(\"W_r\"))\n",
        "                                             + tf.nn.l2_loss(tf.get_variable(\"U_r\"))\n",
        "                                             + tf.nn.l2_loss(tf.get_variable(\"W_z\"))\n",
        "                                             + tf.nn.l2_loss(tf.get_variable(\"U_z\"))\n",
        "                                             + tf.nn.l2_loss(tf.get_variable(\"W_o\"))\n",
        "                                             + tf.nn.l2_loss(tf.get_variable(\"U_o\")))\n",
        "        return loss\n",
        "\n",
        "    def add_training_op(self, loss):        \n",
        "        train_op = tf.train.AdamOptimizer(Config.lr).minimize(loss)\n",
        "        return train_op\n",
        "\n",
        "    def train_on_batch(self, sess, inputs_batch, labels_batch, mask_batch):\n",
        "\n",
        "        feed = self.create_feed_dict(inputs_batch, labels_batch=labels_batch, mask_batch=mask_batch,\n",
        "                                     dropout=Config.dropout)\n",
        "        _, loss, pred = sess.run([self.train_op, self.loss, self.pred], feed_dict=feed)\n",
        "        return loss\n",
        "\n",
        "    def predict_on_batch(self, sess, inputs_batch, mask_batch):\n",
        "    \n",
        "        feed = self.create_feed_dict(inputs_batch,mask_batch)\n",
        "        predictions = sess.run(self.pred, feed_dict=feed)\n",
        "        pred_mask=sess.run(self.mask_placeholder,feed_dict=feed)\n",
        "        pred_mask=np.reshape(pred_mask,(-1,Config.max_length,1))\n",
        "        pred_mask=np.tile(pred_mask,(1,1,Config.n_classes))\n",
        "        pred_masked=predictions*pred_mask\n",
        "        pred_masked=np.sum(pred_masked,axis=1)\n",
        "        return pred_masked\n",
        "\n",
        "    def record_history_init(self,f):\n",
        "        f.write(\"###\\n\")\n",
        "        f.write(\"training_model: \"+sys.argv[0]+\"\\n\")\n",
        "        f.write(\"starting_time: \"+str(datetime.now())+\"\\n\")\n",
        "        f.write(\"\\n\")\n",
        "        f.write(\"parameters:\\n\")\n",
        "        f.write(\"\\tcell_type: \"+Config.cell_type+\"\\n\")\n",
        "        f.write(\"\\tembed_size: {}\\n\".format(Config.embed_size))\n",
        "        f.write(\"\\thidden_size: {}\\n\".format(Config.hidden_size))\n",
        "        f.write(\"\\tlearning_rate: {0:.4f}\\n\".format(Config.lr))\n",
        "        f.write(\"\\tregularization: {0:.7f}\\n\".format(Config.regularization))\n",
        "        f.write(\"\\tdropout: {0:.5f}\\n\".format(Config.dropout))\n",
        "        f.write(\"\\tn_epochs: {0:.5f}\\n\".format(Config.n_epochs))\n",
        "        f.write(\"\\tbatch_size: {}\\n\".format(Config.batch_size))\n",
        "        f.write(\"\\n\")\n",
        "        f.write(\"training history:\\n\")\n",
        "        f.write(\"epoch \\t\\t loss \\t\\t train_accu \\t\\t test_accu\\n\")\n",
        "\n",
        "    def record_history_accu(self,f,n_epoch,average_train_loss,train_accu,test_accu):\n",
        "        f.write(\"{0:d} \\t\\t {1:.5f} \\t\\t {2:.5f} \\t\\t {3:.5f}\\n\".format(n_epoch,average_train_loss,train_accu,test_accu))\n",
        "\n",
        "    def record_history_finish(self,f):\n",
        "        f.write(\"END\\n\")\n",
        "        f.write(\"\\n\")\n",
        "        f.close()\n",
        "\n",
        "    def test_model(self, session, batch_list):\n",
        "        print \"Now, testing on the test set...\"\n",
        "        total = 0\n",
        "        accuCount = 0\n",
        "        for batch in batch_list:\n",
        "            batch_feat = np.array(batch[0], dtype = np.int32)\n",
        "            batch_mask = np.array(batch[1], dtype = np.float32)\n",
        "            pred = self.predict_on_batch(session, batch_feat, batch_mask)\n",
        "            accuCount += np.sum(np.argmax(pred,1) == batch[2])\n",
        "            total += len(batch[2])\n",
        "        accu = accuCount * 1.0 / total\n",
        "        logger.info( (\"Test accuracy %f\" %(accu)) )\n",
        "        return accu\n",
        "\n",
        "    def test_trainset_model(self, session, batch_list):\n",
        "        print \"Now, testing on the training set, notice this is only for debugging...\"\n",
        "        total = 0\n",
        "        accuCount = 0\n",
        "        for batch in batch_list:\n",
        "            batch_feat = np.array(batch[0], dtype = np.int32)\n",
        "            batch_mask = np.array(batch[1], dtype = np.float32)\n",
        "            pred = self.predict_on_batch(session, batch_feat, batch_mask)\n",
        "            accuCount += np.sum(np.argmax(pred,1) == batch[2])\n",
        "            total += len(batch[2])\n",
        "        accu = accuCount * 1.0 / total\n",
        "        logger.info( (\"Test accuracy on training set is: %f\" %(accu)) )\n",
        "        return accu     \n",
        "      \n",
        "    def process_model_output(self):\n",
        "        pkl_file = open('/content/auth_id/data_article_test.pkl', 'rb')\n",
        "        batch_list = pickle.load(pkl_file)\n",
        "        pkl_file.close()\n",
        "\n",
        "        test_size = int(len(batch_list) /1)   \n",
        "        training_batch = batch_list[0 : len(batch_list) - test_size]\n",
        "        print test_size, len(batch_list)\n",
        "        testing_batch = batch_list[len(batch_list) - test_size : len(batch_list)]\n",
        "\n",
        "        init = tf.global_variables_initializer()   #added initialization\n",
        "        saver = tf.train.Saver()\n",
        "        with tf.Session() as session:\n",
        "            session.run(init)\n",
        "            #load_path = \"./model_weights_article\"\n",
        "            saver.restore(session, \"./model_weights_article\")\n",
        "\n",
        "            print \"Now, collecting the model outputs...\"\n",
        "            total = 0\n",
        "            accuCount = 0\n",
        "\n",
        "            for batch in testing_batch:\n",
        "                batch_feat = np.array(batch[1], dtype = np.int32)\n",
        "                batch_mask = np.array(batch[2], dtype = np.float32)\n",
        "\n",
        "                preds = self.predict_on_batch(session, batch_feat, batch_mask)\n",
        "                #print len(preds)\n",
        "                author_find = data_util.find_author(preds)\n",
        "                if author_find == batch[0]:\n",
        "                    accuCount += 1\n",
        "                total += 1\n",
        "            accuracy = accuCount / total\n",
        "            print( (\"Test accuracy %f\" %(accuracy)) )\n",
        "            return accuracy\n",
        "\n",
        "    def process_model_confusion_matrix(self):\n",
        "        pkl_file = open('/content/auth_id/data_test_bundle_seq.pkl', 'rb')\n",
        "        batch_list = pickle.load(pkl_file)\n",
        "        pkl_file.close()\n",
        "\n",
        "        test_size = int(len(batch_list) / 1)\n",
        "        training_batch = batch_list[0 : len(batch_list) - test_size]\n",
        "        print test_size, len(batch_list)\n",
        "        testing_batch = batch_list[len(batch_list) - test_size : len(batch_list)]\n",
        "\n",
        "        init = tf.global_variables_initializer()   #added initialization\n",
        "        saver = tf.train.Saver()\n",
        "        with tf.Session() as session:\n",
        "            session.run(init)\n",
        "            #load_path = \"./model_weights_article\"\n",
        "            saver.restore(session, \"./model_weights_article\")\n",
        "            \n",
        "            print \"Now, collecting the model outputs...\"\n",
        "            pred_list = []\n",
        "            real_label_list = []\n",
        "            total = 0\n",
        "            accuCount = 0\n",
        "            for batch in testing_batch:\n",
        "                batch_feat = np.array(batch[0], dtype = np.int32)\n",
        "                batch_mask = np.array(batch[1], dtype = np.float32)\n",
        "\n",
        "                pred = self.predict_on_batch(session, batch_feat, batch_mask)\n",
        "                accuCount += np.sum(np.argmax(pred,1) == batch[2])\n",
        "                pred_list.extend(np.argmax(pred,1).tolist())\n",
        "                real_label_list.extend(batch[2])                  #changed from batch[0] to batch[2]\n",
        "                total += len(batch[2])\n",
        "\n",
        "            accu = accuCount * 1.0 / total\n",
        "            print( (\"Test accuracy %f\" %(accu)) )\n",
        "            t_cm = cm.generate_cm(real_label_list,pred_list, 50)\n",
        "            x = t_cm.as_matrix().astype(np.uint8)\n",
        "            du.visualize_cm(x, \"C50_word\")\n",
        "            return accu\n",
        "\n",
        "    def train_model(self):\n",
        "        level='word' # 'word' or ''\n",
        "        dataset='c50'\n",
        "        parameter='hs'\n",
        "        date='0319'\n",
        "        training_history_txt_filename='/content/auth_id/results/training_history'+level+'_'+parameter+'_'+dataset+'_'+date  +'.txt'\n",
        "        # write training_history\n",
        "        training_history_file = open(training_history_txt_filename,'a+')\n",
        "        self.record_history_init(training_history_file)\n",
        "\n",
        "        if not os.path.exists(config.log_output):\n",
        "            os.makedirs(os.path.dirname(config.log_output))\n",
        "        handler = logging.FileHandler(config.log_output)\n",
        "        handler.setLevel(logging.DEBUG)\n",
        "        handler.setFormatter(logging.Formatter('%(message)s'))\n",
        "        logging.getLogger().addHandler(handler)\n",
        "        '''\n",
        "        pkl_file = open('../data/batch_data/C50/data_bundle_seq.pkl', 'rb')\n",
        "        batch_list = pickle.load(pkl_file)\n",
        "        pkl_file.close()\n",
        "        test_size = int(len(batch_list) / 10)\n",
        "        training_batch = batch_list[0 : len(batch_list) - test_size]\n",
        "        print test_size\n",
        "        testing_train_batch = batch_list[test_size : 2 * test_size]\n",
        "        testing_batch = batch_list[len(batch_list) - test_size : len(batch_list)]\n",
        "        '''\n",
        "\n",
        "        train_file = open('/content/auth_id/data_train_bundle_seq.pkl', 'rb')\n",
        "        training_batch = pickle.load(train_file)\n",
        "        train_file.close()\n",
        "\n",
        "\n",
        "        test_file = open('/content/auth_id/data_test_bundle_seq.pkl', 'rb')\n",
        "        testing_batch = pickle.load(test_file)\n",
        "        test_file.close()\n",
        "\n",
        "        testing_train_batch = training_batch[0 : int(len(training_batch) / 2)]\n",
        "\n",
        "        init = tf.global_variables_initializer()\n",
        "        saver = tf.train.Saver()\n",
        "        with tf.Session() as session:\n",
        "            session.run(init)\n",
        "            #load_path = \"results/RNN/20170310_1022/model.weights_20\"\n",
        "            #saver.restore(session, load_path)\n",
        "\n",
        "            #the following is a test for what in tensor\n",
        "            batch = training_batch[0]\n",
        "            batch_label = rmb.convertOnehotLabel(batch[2],  Config.n_classes)\n",
        "            batch_feat = np.array(batch[0], dtype = np.int32)\n",
        "            batch_mask = np.array(batch[1], dtype = np.float32)\n",
        "            feed = self.create_feed_dict(batch_feat, labels_batch=batch_label, mask_batch=batch_mask,\n",
        "                                     dropout=Config.dropout)\n",
        "            _, loss, raw_pred, pred = session.run([self.train_op, self.loss, self.raw_preds, self.pred], feed_dict=feed)\n",
        "            ##############\n",
        "\n",
        "            for iterTime in range(Config.n_epochs):\n",
        "                loss_list = []\n",
        "                smallIter = 0\n",
        "\n",
        "                for batch in training_batch:\n",
        "                    batch_label = rmb.convertOnehotLabel(batch[2],  Config.n_classes)\n",
        "                    batch_feat = np.array(batch[0], dtype = np.int32)\n",
        "                    batch_mask = np.array(batch[1], dtype = np.float32)\n",
        "                    loss = self.train_on_batch(session, batch_feat, batch_label, batch_mask)\n",
        "                    loss_list.append(loss)\n",
        "                    smallIter += 1\n",
        "\n",
        "                    if(smallIter % 40 == 0):\n",
        "                        #self.test_trainset_model(session, testing_train_batch)\n",
        "                        #self.test_model(session, testing_batch)\n",
        "                        logger.info((\"Intermediate epoch %d Total Iteration %d: loss : %f\" %(iterTime, smallIter, np.mean(np.mean(np.array(loss)))) ))\n",
        "                # record training history on this epoch\n",
        "                train_accu=self.test_trainset_model(session, testing_train_batch)\n",
        "                test_accu=self.test_model(session, testing_batch)\n",
        "                average_train_loss=np.mean(np.array(loss_list))\n",
        "                self.record_history_accu(training_history_file,iterTime,average_train_loss,train_accu,test_accu)\n",
        "\n",
        "                if(iterTime % 20 == 0):\n",
        "                    logger.info((\"epoch %d : loss : %f\" %(iterTime, np.mean(np.mean(np.array(loss)))) ))\n",
        "                    saver.save(session,\"./model_weights_article\")\n",
        "\n",
        "                    #if(smallIter % 200 == 0):\n",
        "                    print (\"Intermediate epoch %d : loss : %f\" %(iterTime, np.mean(np.mean(np.array(loss)))) )\n",
        "\n",
        "            print (\"epoch %d : loss : %f\" %(iterTime, np.mean(np.mean(np.array(loss)))) )\n",
        "            self.record_history_finish(training_history_file)\n",
        "\n",
        "           \n",
        "    def __init__(self, config, pretrained_embeddings, report=None):\n",
        "        super(RNNModel, self).__init__(config)\n",
        "        self.pretrained_embeddings = pretrained_embeddings\n",
        "        self.input_placeholder = None\n",
        "        self.labels_placeholder = None\n",
        "        self.mask_placeholder = None\n",
        "        self.dropout_placeholder = None\n",
        "        self.raw_preds = None\n",
        "        self.build()\n",
        "\n",
        "\n",
        "if __name__ == \"__main__\":\n",
        "    args = \"gru\"\n",
        "    config = Config(args)\n",
        "    glove_path = \"/content/glove.6B.50d.txt\"\n",
        "    glove_vector = data_util.load_embeddings(glove_path, config.embed_size)\n",
        "    model = RNNModel(config, glove_vector.astype(np.float32))\n",
        "    model.train_model()\n",
        "    model.process_model_output()\n",
        "    #model.process_model_confusion_matrix()"
      ],
      "execution_count": null,
      "outputs": [
        {
          "output_type": "stream",
          "text": [
            "INFO:Intermediate epoch 0 Total Iteration 40: loss : 3.046538\n",
            "INFO:Intermediate epoch 0 Total Iteration 80: loss : 2.358649\n",
            "INFO:Intermediate epoch 0 Total Iteration 120: loss : 1.639385\n",
            "INFO:Intermediate epoch 0 Total Iteration 160: loss : 1.715694\n",
            "INFO:Intermediate epoch 0 Total Iteration 200: loss : 1.421646\n",
            "INFO:Intermediate epoch 0 Total Iteration 240: loss : 1.322795\n",
            "INFO:Intermediate epoch 0 Total Iteration 280: loss : 1.299574\n",
            "INFO:Intermediate epoch 0 Total Iteration 320: loss : 1.480430\n",
            "INFO:Intermediate epoch 0 Total Iteration 360: loss : 1.310145\n",
            "INFO:Intermediate epoch 0 Total Iteration 400: loss : 1.244930\n",
            "INFO:Intermediate epoch 0 Total Iteration 440: loss : 0.934993\n",
            "INFO:Intermediate epoch 0 Total Iteration 480: loss : 1.052158\n"
          ],
          "name": "stderr"
        },
        {
          "output_type": "stream",
          "text": [
            "Now, testing on the training set, notice this is only for debugging...\n"
          ],
          "name": "stdout"
        },
        {
          "output_type": "stream",
          "text": [
            "INFO:Test accuracy on training set is: 0.736904\n"
          ],
          "name": "stderr"
        },
        {
          "output_type": "stream",
          "text": [
            "Now, testing on the test set...\n"
          ],
          "name": "stdout"
        },
        {
          "output_type": "stream",
          "text": [
            "INFO:Test accuracy 0.465215\n",
            "INFO:epoch 0 : loss : 1.296263\n"
          ],
          "name": "stderr"
        },
        {
          "output_type": "stream",
          "text": [
            "Intermediate epoch 0 : loss : 1.296263\n",
            "epoch 0 : loss : 1.296263\n",
            "2500 2500\n"
          ],
          "name": "stdout"
        },
        {
          "output_type": "stream",
          "text": [
            "INFO:Restoring parameters from ./model_weights_article\n"
          ],
          "name": "stderr"
        },
        {
          "output_type": "stream",
          "text": [
            "Now, collecting the model outputs...\n",
            "Test accuracy 0.602800\n"
          ],
          "name": "stdout"
        }
      ]
    },
    {
      "cell_type": "code",
      "metadata": {
        "id": "5FFFmXr9fKXm",
        "colab": {
          "base_uri": "https://localhost:8080/",
          "height": 712
        },
        "outputId": "d763e43a-b039-4b6c-e3af-45f5e32e3221"
      },
      "source": [
        "%cd /content/auth_id/results/\n",
        "!cat training_historyword_hs_c50_0319.txt"
      ],
      "execution_count": null,
      "outputs": [
        {
          "output_type": "stream",
          "text": [
            "/content/auth_id/results\n",
            "\n",
            "###\n",
            "training_model: /usr/local/lib/python2.7/dist-packages/ipykernel_launcher.py\n",
            "starting_time: 2018-11-04 08:17:14.532747\n",
            "\n",
            "parameters:\n",
            "\tcell_type: gru\n",
            "\tembed_size: 50\n",
            "\thidden_size: 150\n",
            "\tlearning_rate: 0.0040\n",
            "\tregularization: 0.0000000\n",
            "\tdropout: 0.90000\n",
            "\tn_epochs: 1.00000\n",
            "\tbatch_size: 64\n",
            "\n",
            "training history:\n",
            "epoch \t\t loss \t\t train_accu \t\t test_accu\n",
            "0 \t\t 1.81801 \t\t 0.70987 \t\t 0.46440\n",
            "END\n",
            "\n",
            "###\n",
            "training_model: /usr/local/lib/python2.7/dist-packages/ipykernel_launcher.py\n",
            "starting_time: 2018-11-04 08:28:24.565365\n",
            "\n",
            "parameters:\n",
            "\tcell_type: gru\n",
            "\tembed_size: 50\n",
            "\thidden_size: 150\n",
            "\tlearning_rate: 0.0040\n",
            "\tregularization: 0.0000000\n",
            "\tdropout: 0.90000\n",
            "\tn_epochs: 1.00000\n",
            "\tbatch_size: 64\n",
            "\n",
            "training history:\n",
            "epoch \t\t loss \t\t train_accu \t\t test_accu\n",
            "0 \t\t 1.81439 \t\t 0.70604 \t\t 0.45712\n",
            "END\n",
            "\n"
          ],
          "name": "stdout"
        }
      ]
    }
  ]
}